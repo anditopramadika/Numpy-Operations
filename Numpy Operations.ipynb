{
 "metadata": {
  "language_info": {
   "codemirror_mode": {
    "name": "ipython",
    "version": 3
   },
   "file_extension": ".py",
   "mimetype": "text/x-python",
   "name": "python",
   "nbconvert_exporter": "python",
   "pygments_lexer": "ipython3",
   "version": "3.9.2-final"
  },
  "orig_nbformat": 2,
  "kernelspec": {
   "name": "python3",
   "display_name": "Python 3.9.2 64-bit",
   "metadata": {
    "interpreter": {
     "hash": "159589a9b896687d0e79509a23cebb32e7963002d75c47b97d8488bbabd97833"
    }
   }
  }
 },
 "nbformat": 4,
 "nbformat_minor": 2,
 "cells": [
  {
   "cell_type": "code",
   "execution_count": 1,
   "metadata": {},
   "outputs": [],
   "source": [
    "import numpy as np"
   ]
  },
  {
   "cell_type": "code",
   "execution_count": 6,
   "metadata": {},
   "outputs": [
    {
     "output_type": "execute_result",
     "data": {
      "text/plain": [
       "array([1, 2, 3, 4, 5, 6, 7, 8, 9])"
      ]
     },
     "metadata": {},
     "execution_count": 6
    }
   ],
   "source": [
    "arr = np.arange(1,10)\n",
    "arr"
   ]
  },
  {
   "cell_type": "code",
   "execution_count": 7,
   "metadata": {},
   "outputs": [
    {
     "output_type": "execute_result",
     "data": {
      "text/plain": [
       "array([ 2,  3,  4,  5,  6,  7,  8,  9, 10])"
      ]
     },
     "metadata": {},
     "execution_count": 7
    }
   ],
   "source": [
    "arr+1"
   ]
  },
  {
   "cell_type": "code",
   "execution_count": 9,
   "metadata": {},
   "outputs": [
    {
     "output_type": "execute_result",
     "data": {
      "text/plain": [
       "array([1.        , 0.5       , 0.33333333, 0.25      , 0.2       ,\n",
       "       0.16666667, 0.14285714, 0.125     , 0.11111111])"
      ]
     },
     "metadata": {},
     "execution_count": 9
    }
   ],
   "source": [
    "1/arr"
   ]
  },
  {
   "cell_type": "code",
   "execution_count": 10,
   "metadata": {},
   "outputs": [
    {
     "output_type": "execute_result",
     "data": {
      "text/plain": [
       "array([ 1,  4,  9, 16, 25, 36, 49, 64, 81])"
      ]
     },
     "metadata": {},
     "execution_count": 10
    }
   ],
   "source": [
    "arr*arr"
   ]
  },
  {
   "cell_type": "code",
   "execution_count": 11,
   "metadata": {},
   "outputs": [
    {
     "output_type": "execute_result",
     "data": {
      "text/plain": [
       "array([        1,         4,        27,       256,      3125,     46656,\n",
       "          823543,  16777216, 387420489], dtype=int32)"
      ]
     },
     "metadata": {},
     "execution_count": 11
    }
   ],
   "source": [
    "arr**arr"
   ]
  },
  {
   "cell_type": "code",
   "execution_count": 15,
   "metadata": {},
   "outputs": [
    {
     "output_type": "execute_result",
     "data": {
      "text/plain": [
       "array([[1, 2, 3],\n",
       "       [4, 5, 6],\n",
       "       [7, 8, 9]])"
      ]
     },
     "metadata": {},
     "execution_count": 15
    }
   ],
   "source": [
    "arr_2d = arr.reshape(3,3)\n",
    "arr_2d"
   ]
  },
  {
   "cell_type": "code",
   "execution_count": 16,
   "metadata": {},
   "outputs": [
    {
     "output_type": "execute_result",
     "data": {
      "text/plain": [
       "array([[ 1,  4,  9],\n",
       "       [16, 25, 36],\n",
       "       [49, 64, 81]], dtype=int32)"
      ]
     },
     "metadata": {},
     "execution_count": 16
    }
   ],
   "source": [
    "arr_2d**2"
   ]
  },
  {
   "cell_type": "code",
   "execution_count": 17,
   "metadata": {},
   "outputs": [
    {
     "output_type": "execute_result",
     "data": {
      "text/plain": [
       "array([[ 1,  4,  9],\n",
       "       [ 4, 10, 18],\n",
       "       [ 7, 16, 27]])"
      ]
     },
     "metadata": {},
     "execution_count": 17
    }
   ],
   "source": [
    "arr_1d = np.array([1,2,3])\n",
    "arr_2d*arr_1d"
   ]
  },
  {
   "cell_type": "code",
   "execution_count": 19,
   "metadata": {},
   "outputs": [
    {
     "output_type": "execute_result",
     "data": {
      "text/plain": [
       "array([[1., 1., 1.],\n",
       "       [1., 1., 1.],\n",
       "       [1., 1., 1.]])"
      ]
     },
     "metadata": {},
     "execution_count": 19
    }
   ],
   "source": [
    "arr_2d/arr_2d"
   ]
  },
  {
   "cell_type": "code",
   "execution_count": 20,
   "metadata": {},
   "outputs": [
    {
     "output_type": "execute_result",
     "data": {
      "text/plain": [
       "array([[ 0.84147098,  0.90929743,  0.14112001],\n",
       "       [-0.7568025 , -0.95892427, -0.2794155 ],\n",
       "       [ 0.6569866 ,  0.98935825,  0.41211849]])"
      ]
     },
     "metadata": {},
     "execution_count": 20
    }
   ],
   "source": [
    "np.sin(arr_2d)"
   ]
  },
  {
   "cell_type": "code",
   "execution_count": 21,
   "metadata": {},
   "outputs": [
    {
     "output_type": "execute_result",
     "data": {
      "text/plain": [
       "array([0.        , 0.69314718, 1.09861229])"
      ]
     },
     "metadata": {},
     "execution_count": 21
    }
   ],
   "source": [
    "np.log(arr_1d)"
   ]
  },
  {
   "cell_type": "code",
   "execution_count": 22,
   "metadata": {},
   "outputs": [
    {
     "output_type": "execute_result",
     "data": {
      "text/plain": [
       "array([[0.        , 0.69314718, 1.09861229],\n",
       "       [1.38629436, 1.60943791, 1.79175947],\n",
       "       [1.94591015, 2.07944154, 2.19722458]])"
      ]
     },
     "metadata": {},
     "execution_count": 22
    }
   ],
   "source": [
    "np.log(arr_2d)"
   ]
  },
  {
   "cell_type": "code",
   "execution_count": 23,
   "metadata": {},
   "outputs": [
    {
     "output_type": "execute_result",
     "data": {
      "text/plain": [
       "array([[2.71828183e+00, 7.38905610e+00, 2.00855369e+01],\n",
       "       [5.45981500e+01, 1.48413159e+02, 4.03428793e+02],\n",
       "       [1.09663316e+03, 2.98095799e+03, 8.10308393e+03]])"
      ]
     },
     "metadata": {},
     "execution_count": 23
    }
   ],
   "source": [
    "np.exp(arr_2d)"
   ]
  },
  {
   "cell_type": "code",
   "execution_count": 26,
   "metadata": {},
   "outputs": [
    {
     "output_type": "execute_result",
     "data": {
      "text/plain": [
       "array([1.        , 1.41421356, 1.73205081, 2.        , 2.23606798,\n",
       "       2.44948974, 2.64575131, 2.82842712, 3.        ])"
      ]
     },
     "metadata": {},
     "execution_count": 26
    }
   ],
   "source": [
    "np.sqrt(arr)"
   ]
  },
  {
   "cell_type": "code",
   "execution_count": 27,
   "metadata": {},
   "outputs": [
    {
     "output_type": "execute_result",
     "data": {
      "text/plain": [
       "array([ 2.71828183,  7.3890561 , 20.08553692])"
      ]
     },
     "metadata": {},
     "execution_count": 27
    }
   ],
   "source": [
    "np.exp(arr_1d)"
   ]
  },
  {
   "cell_type": "code",
   "execution_count": 28,
   "metadata": {},
   "outputs": [
    {
     "output_type": "execute_result",
     "data": {
      "text/plain": [
       "array([ 0.84147098,  0.90929743,  0.14112001, -0.7568025 , -0.95892427,\n",
       "       -0.2794155 ,  0.6569866 ,  0.98935825,  0.41211849])"
      ]
     },
     "metadata": {},
     "execution_count": 28
    }
   ],
   "source": [
    "np.sin(arr)"
   ]
  },
  {
   "cell_type": "code",
   "execution_count": 29,
   "metadata": {},
   "outputs": [
    {
     "output_type": "execute_result",
     "data": {
      "text/plain": [
       "array([[0.        , 0.69314718, 1.09861229],\n",
       "       [1.38629436, 1.60943791, 1.79175947],\n",
       "       [1.94591015, 2.07944154, 2.19722458]])"
      ]
     },
     "metadata": {},
     "execution_count": 29
    }
   ],
   "source": [
    "np.log(arr_2d)"
   ]
  },
  {
   "cell_type": "code",
   "execution_count": 34,
   "metadata": {},
   "outputs": [
    {
     "output_type": "execute_result",
     "data": {
      "text/plain": [
       "array([   1,    2,    3, 1002,    4,    5,    6,    7,    8,    9])"
      ]
     },
     "metadata": {},
     "execution_count": 34
    }
   ],
   "source": [
    "np.insert(arr_2d,3,1002)"
   ]
  },
  {
   "cell_type": "code",
   "execution_count": 39,
   "metadata": {},
   "outputs": [
    {
     "output_type": "execute_result",
     "data": {
      "text/plain": [
       "array([1, 3, 4, 5, 6, 7, 8, 9])"
      ]
     },
     "metadata": {},
     "execution_count": 39
    }
   ],
   "source": [
    "np.delete(arr_2d,1)"
   ]
  },
  {
   "cell_type": "code",
   "execution_count": 40,
   "metadata": {},
   "outputs": [
    {
     "output_type": "execute_result",
     "data": {
      "text/plain": [
       "array([      1,       2,       3,       4,       5,       6,       7,\n",
       "             8,       9, 1241251])"
      ]
     },
     "metadata": {},
     "execution_count": 40
    }
   ],
   "source": [
    "np.append(arr,1241251)"
   ]
  },
  {
   "cell_type": "code",
   "execution_count": 53,
   "metadata": {},
   "outputs": [
    {
     "output_type": "execute_result",
     "data": {
      "text/plain": [
       "array([[1, 2],\n",
       "       [3, 4],\n",
       "       [5, 6]])"
      ]
     },
     "metadata": {},
     "execution_count": 53
    }
   ],
   "source": [
    "a = np.array([[1,2],[3,4]])\n",
    "b = np.array([[5,6]])\n",
    "np.concatenate((a, b), axis=0)"
   ]
  },
  {
   "cell_type": "code",
   "execution_count": 55,
   "metadata": {},
   "outputs": [
    {
     "output_type": "execute_result",
     "data": {
      "text/plain": [
       "array([[1, 2, 5],\n",
       "       [3, 4, 6]])"
      ]
     },
     "metadata": {},
     "execution_count": 55
    }
   ],
   "source": [
    "np.concatenate((a,b.T),axis=1)"
   ]
  },
  {
   "cell_type": "code",
   "execution_count": 58,
   "metadata": {},
   "outputs": [
    {
     "output_type": "execute_result",
     "data": {
      "text/plain": [
       "array([  1,   2,   3, 100, 100, 100, 100, 100, 100])"
      ]
     },
     "metadata": {},
     "execution_count": 58
    }
   ],
   "source": [
    "np.where(arr>3,100,arr)"
   ]
  },
  {
   "cell_type": "code",
   "execution_count": 60,
   "metadata": {},
   "outputs": [
    {
     "output_type": "execute_result",
     "data": {
      "text/plain": [
       "array([[0, 0, 0],\n",
       "       [0, 0, 0],\n",
       "       [7, 8, 9]])"
      ]
     },
     "metadata": {},
     "execution_count": 60
    }
   ],
   "source": [
    "np.where(arr_2d <=6,0,arr_2d)"
   ]
  },
  {
   "cell_type": "code",
   "execution_count": 2,
   "metadata": {},
   "outputs": [],
   "source": [
    "import numpy as np\n",
    "import pandas as pd"
   ]
  },
  {
   "cell_type": "code",
   "execution_count": 4,
   "metadata": {},
   "outputs": [],
   "source": [
    "label = ['a','b','c']\n",
    "x = [100,200,300]"
   ]
  },
  {
   "cell_type": "code",
   "execution_count": 5,
   "metadata": {},
   "outputs": [
    {
     "output_type": "execute_result",
     "data": {
      "text/plain": [
       "0    100\n",
       "1    200\n",
       "2    300\n",
       "dtype: int64"
      ]
     },
     "metadata": {},
     "execution_count": 5
    }
   ],
   "source": [
    "pd.Series(data=x)"
   ]
  },
  {
   "cell_type": "code",
   "execution_count": 6,
   "metadata": {},
   "outputs": [
    {
     "output_type": "execute_result",
     "data": {
      "text/plain": [
       "a    100\n",
       "b    200\n",
       "c    300\n",
       "dtype: int64"
      ]
     },
     "metadata": {},
     "execution_count": 6
    }
   ],
   "source": [
    "pd.Series (data = x,index = label)"
   ]
  },
  {
   "cell_type": "code",
   "execution_count": 7,
   "metadata": {},
   "outputs": [
    {
     "output_type": "execute_result",
     "data": {
      "text/plain": [
       "a    100\n",
       "b    200\n",
       "c    300\n",
       "dtype: int64"
      ]
     },
     "metadata": {},
     "execution_count": 7
    }
   ],
   "source": [
    "pd.Series(x,label)"
   ]
  },
  {
   "cell_type": "code",
   "execution_count": 17,
   "metadata": {},
   "outputs": [],
   "source": [
    "a = [i for i in range(1,5)]\n",
    "b = [i for i in range(5,9)]\n",
    "c = [i for i in range(9,13)]"
   ]
  },
  {
   "cell_type": "code",
   "execution_count": 24,
   "metadata": {},
   "outputs": [
    {
     "output_type": "execute_result",
     "data": {
      "text/plain": [
       "        Ini  Panda  apa  Numpy\n",
       "et        1      2    3      4\n",
       "dah       5      6    7      8\n",
       "bacang    9     10   11     12"
      ],
      "text/html": "<div>\n<style scoped>\n    .dataframe tbody tr th:only-of-type {\n        vertical-align: middle;\n    }\n\n    .dataframe tbody tr th {\n        vertical-align: top;\n    }\n\n    .dataframe thead th {\n        text-align: right;\n    }\n</style>\n<table border=\"1\" class=\"dataframe\">\n  <thead>\n    <tr style=\"text-align: right;\">\n      <th></th>\n      <th>Ini</th>\n      <th>Panda</th>\n      <th>apa</th>\n      <th>Numpy</th>\n    </tr>\n  </thead>\n  <tbody>\n    <tr>\n      <th>et</th>\n      <td>1</td>\n      <td>2</td>\n      <td>3</td>\n      <td>4</td>\n    </tr>\n    <tr>\n      <th>dah</th>\n      <td>5</td>\n      <td>6</td>\n      <td>7</td>\n      <td>8</td>\n    </tr>\n    <tr>\n      <th>bacang</th>\n      <td>9</td>\n      <td>10</td>\n      <td>11</td>\n      <td>12</td>\n    </tr>\n  </tbody>\n</table>\n</div>"
     },
     "metadata": {},
     "execution_count": 24
    }
   ],
   "source": [
    "pd.DataFrame(data = [a,b,c], index = 'et dah bacang'.split(),columns= 'Ini Panda apa Numpy'.split())\n"
   ]
  },
  {
   "cell_type": "code",
   "execution_count": 22,
   "metadata": {},
   "outputs": [],
   "source": [
    "x_list = [[1,2,3,4],[5,6,7,8],[9,10,11,12]]"
   ]
  },
  {
   "cell_type": "code",
   "execution_count": 23,
   "metadata": {},
   "outputs": [
    {
     "output_type": "execute_result",
     "data": {
      "text/plain": [
       "   0   1   2   3\n",
       "0  1   2   3   4\n",
       "1  5   6   7   8\n",
       "2  9  10  11  12"
      ],
      "text/html": "<div>\n<style scoped>\n    .dataframe tbody tr th:only-of-type {\n        vertical-align: middle;\n    }\n\n    .dataframe tbody tr th {\n        vertical-align: top;\n    }\n\n    .dataframe thead th {\n        text-align: right;\n    }\n</style>\n<table border=\"1\" class=\"dataframe\">\n  <thead>\n    <tr style=\"text-align: right;\">\n      <th></th>\n      <th>0</th>\n      <th>1</th>\n      <th>2</th>\n      <th>3</th>\n    </tr>\n  </thead>\n  <tbody>\n    <tr>\n      <th>0</th>\n      <td>1</td>\n      <td>2</td>\n      <td>3</td>\n      <td>4</td>\n    </tr>\n    <tr>\n      <th>1</th>\n      <td>5</td>\n      <td>6</td>\n      <td>7</td>\n      <td>8</td>\n    </tr>\n    <tr>\n      <th>2</th>\n      <td>9</td>\n      <td>10</td>\n      <td>11</td>\n      <td>12</td>\n    </tr>\n  </tbody>\n</table>\n</div>"
     },
     "metadata": {},
     "execution_count": 23
    }
   ],
   "source": [
    "pd.DataFrame(x_list)"
   ]
  },
  {
   "cell_type": "code",
   "execution_count": 25,
   "metadata": {},
   "outputs": [
    {
     "output_type": "execute_result",
     "data": {
      "text/plain": [
       "a       [1, 2, 3, 4]\n",
       "b       [5, 6, 7, 8]\n",
       "c    [9, 10, 11, 12]\n",
       "dtype: object"
      ]
     },
     "metadata": {},
     "execution_count": 25
    }
   ],
   "source": [
    "pd.Series(data = x_list,index=label)"
   ]
  },
  {
   "cell_type": "code",
   "execution_count": 26,
   "metadata": {},
   "outputs": [
    {
     "output_type": "execute_result",
     "data": {
      "text/plain": [
       "a       [1, 2, 3, 4]\n",
       "b       [5, 6, 7, 8]\n",
       "c    [9, 10, 11, 12]\n",
       "dtype: object"
      ]
     },
     "metadata": {},
     "execution_count": 26
    }
   ],
   "source": [
    "pd.Series(x_list,label)"
   ]
  },
  {
   "cell_type": "code",
   "execution_count": 27,
   "metadata": {},
   "outputs": [
    {
     "output_type": "execute_result",
     "data": {
      "text/plain": [
       "0       [1, 2, 3, 4]\n",
       "1       [5, 6, 7, 8]\n",
       "2    [9, 10, 11, 12]\n",
       "dtype: object"
      ]
     },
     "metadata": {},
     "execution_count": 27
    }
   ],
   "source": [
    "pd.Series(x_list)"
   ]
  },
  {
   "cell_type": "code",
   "execution_count": 30,
   "metadata": {},
   "outputs": [],
   "source": [
    "d = {'a':10,'b':20,'c':30}"
   ]
  },
  {
   "cell_type": "code",
   "execution_count": 31,
   "metadata": {},
   "outputs": [
    {
     "output_type": "execute_result",
     "data": {
      "text/plain": [
       "a    10\n",
       "b    20\n",
       "c    30\n",
       "dtype: int64"
      ]
     },
     "metadata": {},
     "execution_count": 31
    }
   ],
   "source": [
    "pd.Series(d)"
   ]
  },
  {
   "cell_type": "code",
   "execution_count": 32,
   "metadata": {},
   "outputs": [],
   "source": [
    "from numpy.random import randn\n",
    "np.random.seed(10)"
   ]
  },
  {
   "cell_type": "code",
   "execution_count": 33,
   "metadata": {},
   "outputs": [],
   "source": [
    "df = pd.DataFrame(randn(10,10), index= 'A B C D E F G H I J'.split(), columns= 'K L M N O P Q R S T'.split())"
   ]
  },
  {
   "cell_type": "code",
   "execution_count": 34,
   "metadata": {},
   "outputs": [
    {
     "output_type": "execute_result",
     "data": {
      "text/plain": [
       "          K         L         M         N         O         P         Q  \\\n",
       "A  1.331587  0.715279 -1.545400 -0.008384  0.621336 -0.720086  0.265512   \n",
       "B  0.433026  1.203037 -0.965066  1.028274  0.228630  0.445138 -1.136602   \n",
       "C -1.977728 -1.743372  0.266070  2.384967  1.123691  1.672622  0.099149   \n",
       "D -0.267317 -0.549309  0.132708 -0.476142  1.308473  0.195013  0.400210   \n",
       "E  0.660232 -0.350872 -0.939433 -0.489337 -0.804591 -0.212698 -0.339140   \n",
       "F -0.025905  0.289094 -0.539879  0.708160  0.842225  0.203581  2.394704   \n",
       "G -0.232182 -0.501729  1.128785 -0.697810 -0.081122 -0.529296  1.046183   \n",
       "H  0.319356  0.460903 -0.215790  0.989072  0.314754  2.467651 -1.508321   \n",
       "I  1.985085  1.744814 -1.856185 -0.222774 -0.065848 -2.131712 -0.048831   \n",
       "J  1.107708  0.244544 -0.061912 -0.753893  0.711959  0.918269 -0.482093   \n",
       "\n",
       "          R         S         T  \n",
       "A  0.108549  0.004291 -0.174600  \n",
       "B  0.135137  1.484537 -1.079805  \n",
       "C  1.397996 -0.271248  0.613204  \n",
       "D -0.337632  1.256472 -0.731970  \n",
       "E  0.312170  0.565153 -0.147420  \n",
       "F  0.917459 -0.112272 -0.362180  \n",
       "G -1.418556 -0.362499 -0.121906  \n",
       "H  0.620601 -1.045133 -0.798009  \n",
       "I  0.393341  0.217265 -1.994394  \n",
       "J  0.089588  0.826999 -1.954512  "
      ],
      "text/html": "<div>\n<style scoped>\n    .dataframe tbody tr th:only-of-type {\n        vertical-align: middle;\n    }\n\n    .dataframe tbody tr th {\n        vertical-align: top;\n    }\n\n    .dataframe thead th {\n        text-align: right;\n    }\n</style>\n<table border=\"1\" class=\"dataframe\">\n  <thead>\n    <tr style=\"text-align: right;\">\n      <th></th>\n      <th>K</th>\n      <th>L</th>\n      <th>M</th>\n      <th>N</th>\n      <th>O</th>\n      <th>P</th>\n      <th>Q</th>\n      <th>R</th>\n      <th>S</th>\n      <th>T</th>\n    </tr>\n  </thead>\n  <tbody>\n    <tr>\n      <th>A</th>\n      <td>1.331587</td>\n      <td>0.715279</td>\n      <td>-1.545400</td>\n      <td>-0.008384</td>\n      <td>0.621336</td>\n      <td>-0.720086</td>\n      <td>0.265512</td>\n      <td>0.108549</td>\n      <td>0.004291</td>\n      <td>-0.174600</td>\n    </tr>\n    <tr>\n      <th>B</th>\n      <td>0.433026</td>\n      <td>1.203037</td>\n      <td>-0.965066</td>\n      <td>1.028274</td>\n      <td>0.228630</td>\n      <td>0.445138</td>\n      <td>-1.136602</td>\n      <td>0.135137</td>\n      <td>1.484537</td>\n      <td>-1.079805</td>\n    </tr>\n    <tr>\n      <th>C</th>\n      <td>-1.977728</td>\n      <td>-1.743372</td>\n      <td>0.266070</td>\n      <td>2.384967</td>\n      <td>1.123691</td>\n      <td>1.672622</td>\n      <td>0.099149</td>\n      <td>1.397996</td>\n      <td>-0.271248</td>\n      <td>0.613204</td>\n    </tr>\n    <tr>\n      <th>D</th>\n      <td>-0.267317</td>\n      <td>-0.549309</td>\n      <td>0.132708</td>\n      <td>-0.476142</td>\n      <td>1.308473</td>\n      <td>0.195013</td>\n      <td>0.400210</td>\n      <td>-0.337632</td>\n      <td>1.256472</td>\n      <td>-0.731970</td>\n    </tr>\n    <tr>\n      <th>E</th>\n      <td>0.660232</td>\n      <td>-0.350872</td>\n      <td>-0.939433</td>\n      <td>-0.489337</td>\n      <td>-0.804591</td>\n      <td>-0.212698</td>\n      <td>-0.339140</td>\n      <td>0.312170</td>\n      <td>0.565153</td>\n      <td>-0.147420</td>\n    </tr>\n    <tr>\n      <th>F</th>\n      <td>-0.025905</td>\n      <td>0.289094</td>\n      <td>-0.539879</td>\n      <td>0.708160</td>\n      <td>0.842225</td>\n      <td>0.203581</td>\n      <td>2.394704</td>\n      <td>0.917459</td>\n      <td>-0.112272</td>\n      <td>-0.362180</td>\n    </tr>\n    <tr>\n      <th>G</th>\n      <td>-0.232182</td>\n      <td>-0.501729</td>\n      <td>1.128785</td>\n      <td>-0.697810</td>\n      <td>-0.081122</td>\n      <td>-0.529296</td>\n      <td>1.046183</td>\n      <td>-1.418556</td>\n      <td>-0.362499</td>\n      <td>-0.121906</td>\n    </tr>\n    <tr>\n      <th>H</th>\n      <td>0.319356</td>\n      <td>0.460903</td>\n      <td>-0.215790</td>\n      <td>0.989072</td>\n      <td>0.314754</td>\n      <td>2.467651</td>\n      <td>-1.508321</td>\n      <td>0.620601</td>\n      <td>-1.045133</td>\n      <td>-0.798009</td>\n    </tr>\n    <tr>\n      <th>I</th>\n      <td>1.985085</td>\n      <td>1.744814</td>\n      <td>-1.856185</td>\n      <td>-0.222774</td>\n      <td>-0.065848</td>\n      <td>-2.131712</td>\n      <td>-0.048831</td>\n      <td>0.393341</td>\n      <td>0.217265</td>\n      <td>-1.994394</td>\n    </tr>\n    <tr>\n      <th>J</th>\n      <td>1.107708</td>\n      <td>0.244544</td>\n      <td>-0.061912</td>\n      <td>-0.753893</td>\n      <td>0.711959</td>\n      <td>0.918269</td>\n      <td>-0.482093</td>\n      <td>0.089588</td>\n      <td>0.826999</td>\n      <td>-1.954512</td>\n    </tr>\n  </tbody>\n</table>\n</div>"
     },
     "metadata": {},
     "execution_count": 34
    }
   ],
   "source": [
    "df"
   ]
  },
  {
   "cell_type": "code",
   "execution_count": 36,
   "metadata": {},
   "outputs": [
    {
     "output_type": "execute_result",
     "data": {
      "text/plain": [
       "   a  b   c\n",
       "W  1  5   9\n",
       "X  2  6  10\n",
       "Y  3  7  11\n",
       "Z  4  8  12"
      ],
      "text/html": "<div>\n<style scoped>\n    .dataframe tbody tr th:only-of-type {\n        vertical-align: middle;\n    }\n\n    .dataframe tbody tr th {\n        vertical-align: top;\n    }\n\n    .dataframe thead th {\n        text-align: right;\n    }\n</style>\n<table border=\"1\" class=\"dataframe\">\n  <thead>\n    <tr style=\"text-align: right;\">\n      <th></th>\n      <th>a</th>\n      <th>b</th>\n      <th>c</th>\n    </tr>\n  </thead>\n  <tbody>\n    <tr>\n      <th>W</th>\n      <td>1</td>\n      <td>5</td>\n      <td>9</td>\n    </tr>\n    <tr>\n      <th>X</th>\n      <td>2</td>\n      <td>6</td>\n      <td>10</td>\n    </tr>\n    <tr>\n      <th>Y</th>\n      <td>3</td>\n      <td>7</td>\n      <td>11</td>\n    </tr>\n    <tr>\n      <th>Z</th>\n      <td>4</td>\n      <td>8</td>\n      <td>12</td>\n    </tr>\n  </tbody>\n</table>\n</div>"
     },
     "metadata": {},
     "execution_count": 36
    }
   ],
   "source": [
    "my_d = {'a':[1,2,3,4],'b':[5,6,7,8],'c':[9,10,11,12]}\n",
    "pd.DataFrame(my_d,index='W X Y Z'.split())"
   ]
  },
  {
   "cell_type": "code",
   "execution_count": 40,
   "metadata": {},
   "outputs": [
    {
     "output_type": "execute_result",
     "data": {
      "text/plain": [
       "A    0.621336\n",
       "B    0.228630\n",
       "C    1.123691\n",
       "D    1.308473\n",
       "E   -0.804591\n",
       "F    0.842225\n",
       "G   -0.081122\n",
       "H    0.314754\n",
       "I   -0.065848\n",
       "J    0.711959\n",
       "Name: O, dtype: float64"
      ]
     },
     "metadata": {},
     "execution_count": 40
    }
   ],
   "source": [
    "df['O']"
   ]
  },
  {
   "cell_type": "code",
   "execution_count": 41,
   "metadata": {},
   "outputs": [
    {
     "output_type": "execute_result",
     "data": {
      "text/plain": [
       "-0.06584784771120117"
      ]
     },
     "metadata": {},
     "execution_count": 41
    }
   ],
   "source": [
    "df['O'][8]"
   ]
  },
  {
   "cell_type": "code",
   "execution_count": 42,
   "metadata": {},
   "outputs": [
    {
     "output_type": "execute_result",
     "data": {
      "text/plain": [
       "B    0.228630\n",
       "C    1.123691\n",
       "D    1.308473\n",
       "E   -0.804591\n",
       "F    0.842225\n",
       "G   -0.081122\n",
       "H    0.314754\n",
       "I   -0.065848\n",
       "Name: O, dtype: float64"
      ]
     },
     "metadata": {},
     "execution_count": 42
    }
   ],
   "source": [
    "df['O'][1:9]"
   ]
  },
  {
   "cell_type": "code",
   "execution_count": 43,
   "metadata": {},
   "outputs": [
    {
     "output_type": "execute_result",
     "data": {
      "text/plain": [
       "A    0.621336\n",
       "B    0.228630\n",
       "C    1.123691\n",
       "D    1.308473\n",
       "E   -0.804591\n",
       "F    0.842225\n",
       "G   -0.081122\n",
       "H    0.314754\n",
       "I   -0.065848\n",
       "J    0.711959\n",
       "Name: O, dtype: float64"
      ]
     },
     "metadata": {},
     "execution_count": 43
    }
   ],
   "source": [
    "df.O"
   ]
  },
  {
   "cell_type": "code",
   "execution_count": 44,
   "metadata": {},
   "outputs": [],
   "source": [
    "df['tambahan']=[1,2,3,4,5,6,7,8,9,10]"
   ]
  },
  {
   "cell_type": "code",
   "execution_count": 45,
   "metadata": {},
   "outputs": [
    {
     "output_type": "execute_result",
     "data": {
      "text/plain": [
       "          K         L         M         N         O         P         Q  \\\n",
       "A  1.331587  0.715279 -1.545400 -0.008384  0.621336 -0.720086  0.265512   \n",
       "B  0.433026  1.203037 -0.965066  1.028274  0.228630  0.445138 -1.136602   \n",
       "C -1.977728 -1.743372  0.266070  2.384967  1.123691  1.672622  0.099149   \n",
       "D -0.267317 -0.549309  0.132708 -0.476142  1.308473  0.195013  0.400210   \n",
       "E  0.660232 -0.350872 -0.939433 -0.489337 -0.804591 -0.212698 -0.339140   \n",
       "F -0.025905  0.289094 -0.539879  0.708160  0.842225  0.203581  2.394704   \n",
       "G -0.232182 -0.501729  1.128785 -0.697810 -0.081122 -0.529296  1.046183   \n",
       "H  0.319356  0.460903 -0.215790  0.989072  0.314754  2.467651 -1.508321   \n",
       "I  1.985085  1.744814 -1.856185 -0.222774 -0.065848 -2.131712 -0.048831   \n",
       "J  1.107708  0.244544 -0.061912 -0.753893  0.711959  0.918269 -0.482093   \n",
       "\n",
       "          R         S         T  tambahan  \n",
       "A  0.108549  0.004291 -0.174600         1  \n",
       "B  0.135137  1.484537 -1.079805         2  \n",
       "C  1.397996 -0.271248  0.613204         3  \n",
       "D -0.337632  1.256472 -0.731970         4  \n",
       "E  0.312170  0.565153 -0.147420         5  \n",
       "F  0.917459 -0.112272 -0.362180         6  \n",
       "G -1.418556 -0.362499 -0.121906         7  \n",
       "H  0.620601 -1.045133 -0.798009         8  \n",
       "I  0.393341  0.217265 -1.994394         9  \n",
       "J  0.089588  0.826999 -1.954512        10  "
      ],
      "text/html": "<div>\n<style scoped>\n    .dataframe tbody tr th:only-of-type {\n        vertical-align: middle;\n    }\n\n    .dataframe tbody tr th {\n        vertical-align: top;\n    }\n\n    .dataframe thead th {\n        text-align: right;\n    }\n</style>\n<table border=\"1\" class=\"dataframe\">\n  <thead>\n    <tr style=\"text-align: right;\">\n      <th></th>\n      <th>K</th>\n      <th>L</th>\n      <th>M</th>\n      <th>N</th>\n      <th>O</th>\n      <th>P</th>\n      <th>Q</th>\n      <th>R</th>\n      <th>S</th>\n      <th>T</th>\n      <th>tambahan</th>\n    </tr>\n  </thead>\n  <tbody>\n    <tr>\n      <th>A</th>\n      <td>1.331587</td>\n      <td>0.715279</td>\n      <td>-1.545400</td>\n      <td>-0.008384</td>\n      <td>0.621336</td>\n      <td>-0.720086</td>\n      <td>0.265512</td>\n      <td>0.108549</td>\n      <td>0.004291</td>\n      <td>-0.174600</td>\n      <td>1</td>\n    </tr>\n    <tr>\n      <th>B</th>\n      <td>0.433026</td>\n      <td>1.203037</td>\n      <td>-0.965066</td>\n      <td>1.028274</td>\n      <td>0.228630</td>\n      <td>0.445138</td>\n      <td>-1.136602</td>\n      <td>0.135137</td>\n      <td>1.484537</td>\n      <td>-1.079805</td>\n      <td>2</td>\n    </tr>\n    <tr>\n      <th>C</th>\n      <td>-1.977728</td>\n      <td>-1.743372</td>\n      <td>0.266070</td>\n      <td>2.384967</td>\n      <td>1.123691</td>\n      <td>1.672622</td>\n      <td>0.099149</td>\n      <td>1.397996</td>\n      <td>-0.271248</td>\n      <td>0.613204</td>\n      <td>3</td>\n    </tr>\n    <tr>\n      <th>D</th>\n      <td>-0.267317</td>\n      <td>-0.549309</td>\n      <td>0.132708</td>\n      <td>-0.476142</td>\n      <td>1.308473</td>\n      <td>0.195013</td>\n      <td>0.400210</td>\n      <td>-0.337632</td>\n      <td>1.256472</td>\n      <td>-0.731970</td>\n      <td>4</td>\n    </tr>\n    <tr>\n      <th>E</th>\n      <td>0.660232</td>\n      <td>-0.350872</td>\n      <td>-0.939433</td>\n      <td>-0.489337</td>\n      <td>-0.804591</td>\n      <td>-0.212698</td>\n      <td>-0.339140</td>\n      <td>0.312170</td>\n      <td>0.565153</td>\n      <td>-0.147420</td>\n      <td>5</td>\n    </tr>\n    <tr>\n      <th>F</th>\n      <td>-0.025905</td>\n      <td>0.289094</td>\n      <td>-0.539879</td>\n      <td>0.708160</td>\n      <td>0.842225</td>\n      <td>0.203581</td>\n      <td>2.394704</td>\n      <td>0.917459</td>\n      <td>-0.112272</td>\n      <td>-0.362180</td>\n      <td>6</td>\n    </tr>\n    <tr>\n      <th>G</th>\n      <td>-0.232182</td>\n      <td>-0.501729</td>\n      <td>1.128785</td>\n      <td>-0.697810</td>\n      <td>-0.081122</td>\n      <td>-0.529296</td>\n      <td>1.046183</td>\n      <td>-1.418556</td>\n      <td>-0.362499</td>\n      <td>-0.121906</td>\n      <td>7</td>\n    </tr>\n    <tr>\n      <th>H</th>\n      <td>0.319356</td>\n      <td>0.460903</td>\n      <td>-0.215790</td>\n      <td>0.989072</td>\n      <td>0.314754</td>\n      <td>2.467651</td>\n      <td>-1.508321</td>\n      <td>0.620601</td>\n      <td>-1.045133</td>\n      <td>-0.798009</td>\n      <td>8</td>\n    </tr>\n    <tr>\n      <th>I</th>\n      <td>1.985085</td>\n      <td>1.744814</td>\n      <td>-1.856185</td>\n      <td>-0.222774</td>\n      <td>-0.065848</td>\n      <td>-2.131712</td>\n      <td>-0.048831</td>\n      <td>0.393341</td>\n      <td>0.217265</td>\n      <td>-1.994394</td>\n      <td>9</td>\n    </tr>\n    <tr>\n      <th>J</th>\n      <td>1.107708</td>\n      <td>0.244544</td>\n      <td>-0.061912</td>\n      <td>-0.753893</td>\n      <td>0.711959</td>\n      <td>0.918269</td>\n      <td>-0.482093</td>\n      <td>0.089588</td>\n      <td>0.826999</td>\n      <td>-1.954512</td>\n      <td>10</td>\n    </tr>\n  </tbody>\n</table>\n</div>"
     },
     "metadata": {},
     "execution_count": 45
    }
   ],
   "source": [
    "df"
   ]
  },
  {
   "cell_type": "code",
   "execution_count": 46,
   "metadata": {},
   "outputs": [
    {
     "output_type": "execute_result",
     "data": {
      "text/plain": [
       "A     1\n",
       "B     2\n",
       "C     3\n",
       "D     4\n",
       "E     5\n",
       "F     6\n",
       "G     7\n",
       "H     8\n",
       "I     9\n",
       "J    10\n",
       "Name: tambahan, dtype: int64"
      ]
     },
     "metadata": {},
     "execution_count": 46
    }
   ],
   "source": [
    "df.tambahan"
   ]
  },
  {
   "cell_type": "code",
   "execution_count": 47,
   "metadata": {},
   "outputs": [
    {
     "output_type": "execute_result",
     "data": {
      "text/plain": [
       "<bound method NDFrame._add_numeric_operations.<locals>.min of           K         L         M         N         O         P         Q  \\\n",
       "A  1.331587  0.715279 -1.545400 -0.008384  0.621336 -0.720086  0.265512   \n",
       "B  0.433026  1.203037 -0.965066  1.028274  0.228630  0.445138 -1.136602   \n",
       "C -1.977728 -1.743372  0.266070  2.384967  1.123691  1.672622  0.099149   \n",
       "D -0.267317 -0.549309  0.132708 -0.476142  1.308473  0.195013  0.400210   \n",
       "E  0.660232 -0.350872 -0.939433 -0.489337 -0.804591 -0.212698 -0.339140   \n",
       "F -0.025905  0.289094 -0.539879  0.708160  0.842225  0.203581  2.394704   \n",
       "G -0.232182 -0.501729  1.128785 -0.697810 -0.081122 -0.529296  1.046183   \n",
       "H  0.319356  0.460903 -0.215790  0.989072  0.314754  2.467651 -1.508321   \n",
       "I  1.985085  1.744814 -1.856185 -0.222774 -0.065848 -2.131712 -0.048831   \n",
       "J  1.107708  0.244544 -0.061912 -0.753893  0.711959  0.918269 -0.482093   \n",
       "\n",
       "          R         S         T  tambahan  \n",
       "A  0.108549  0.004291 -0.174600         1  \n",
       "B  0.135137  1.484537 -1.079805         2  \n",
       "C  1.397996 -0.271248  0.613204         3  \n",
       "D -0.337632  1.256472 -0.731970         4  \n",
       "E  0.312170  0.565153 -0.147420         5  \n",
       "F  0.917459 -0.112272 -0.362180         6  \n",
       "G -1.418556 -0.362499 -0.121906         7  \n",
       "H  0.620601 -1.045133 -0.798009         8  \n",
       "I  0.393341  0.217265 -1.994394         9  \n",
       "J  0.089588  0.826999 -1.954512        10  >"
      ]
     },
     "metadata": {},
     "execution_count": 47
    }
   ],
   "source": [
    "df.min"
   ]
  },
  {
   "cell_type": "code",
   "execution_count": 52,
   "metadata": {},
   "outputs": [
    {
     "output_type": "execute_result",
     "data": {
      "text/plain": [
       "A     1\n",
       "B     2\n",
       "C     3\n",
       "D     4\n",
       "E     5\n",
       "F     6\n",
       "G     7\n",
       "H     8\n",
       "I     9\n",
       "J    10\n",
       "Name: tambahan, dtype: int64"
      ]
     },
     "metadata": {},
     "execution_count": 52
    }
   ],
   "source": [
    "df['tambahan']"
   ]
  },
  {
   "cell_type": "code",
   "execution_count": 54,
   "metadata": {},
   "outputs": [
    {
     "output_type": "execute_result",
     "data": {
      "text/plain": [
       "          O  tambahan\n",
       "A  0.621336         1\n",
       "B  0.228630         2\n",
       "C  1.123691         3\n",
       "D  1.308473         4\n",
       "E -0.804591         5\n",
       "F  0.842225         6\n",
       "G -0.081122         7\n",
       "H  0.314754         8\n",
       "I -0.065848         9\n",
       "J  0.711959        10"
      ],
      "text/html": "<div>\n<style scoped>\n    .dataframe tbody tr th:only-of-type {\n        vertical-align: middle;\n    }\n\n    .dataframe tbody tr th {\n        vertical-align: top;\n    }\n\n    .dataframe thead th {\n        text-align: right;\n    }\n</style>\n<table border=\"1\" class=\"dataframe\">\n  <thead>\n    <tr style=\"text-align: right;\">\n      <th></th>\n      <th>O</th>\n      <th>tambahan</th>\n    </tr>\n  </thead>\n  <tbody>\n    <tr>\n      <th>A</th>\n      <td>0.621336</td>\n      <td>1</td>\n    </tr>\n    <tr>\n      <th>B</th>\n      <td>0.228630</td>\n      <td>2</td>\n    </tr>\n    <tr>\n      <th>C</th>\n      <td>1.123691</td>\n      <td>3</td>\n    </tr>\n    <tr>\n      <th>D</th>\n      <td>1.308473</td>\n      <td>4</td>\n    </tr>\n    <tr>\n      <th>E</th>\n      <td>-0.804591</td>\n      <td>5</td>\n    </tr>\n    <tr>\n      <th>F</th>\n      <td>0.842225</td>\n      <td>6</td>\n    </tr>\n    <tr>\n      <th>G</th>\n      <td>-0.081122</td>\n      <td>7</td>\n    </tr>\n    <tr>\n      <th>H</th>\n      <td>0.314754</td>\n      <td>8</td>\n    </tr>\n    <tr>\n      <th>I</th>\n      <td>-0.065848</td>\n      <td>9</td>\n    </tr>\n    <tr>\n      <th>J</th>\n      <td>0.711959</td>\n      <td>10</td>\n    </tr>\n  </tbody>\n</table>\n</div>"
     },
     "metadata": {},
     "execution_count": 54
    }
   ],
   "source": [
    "df[['O','tambahan']]"
   ]
  },
  {
   "cell_type": "code",
   "execution_count": 57,
   "metadata": {},
   "outputs": [
    {
     "output_type": "execute_result",
     "data": {
      "text/plain": [
       "K           0.433026\n",
       "L           1.203037\n",
       "M          -0.965066\n",
       "N           1.028274\n",
       "O           0.228630\n",
       "P           0.445138\n",
       "Q          -1.136602\n",
       "R           0.135137\n",
       "S           1.484537\n",
       "T          -1.079805\n",
       "tambahan    2.000000\n",
       "Name: B, dtype: float64"
      ]
     },
     "metadata": {},
     "execution_count": 57
    }
   ],
   "source": [
    "df.loc['B']"
   ]
  },
  {
   "cell_type": "code",
   "execution_count": 58,
   "metadata": {},
   "outputs": [
    {
     "output_type": "execute_result",
     "data": {
      "text/plain": [
       "          K         L         M         N         O         P         Q  \\\n",
       "B  0.433026  1.203037 -0.965066  1.028274  0.228630  0.445138 -1.136602   \n",
       "C -1.977728 -1.743372  0.266070  2.384967  1.123691  1.672622  0.099149   \n",
       "D -0.267317 -0.549309  0.132708 -0.476142  1.308473  0.195013  0.400210   \n",
       "E  0.660232 -0.350872 -0.939433 -0.489337 -0.804591 -0.212698 -0.339140   \n",
       "\n",
       "          R         S         T  tambahan  \n",
       "B  0.135137  1.484537 -1.079805         2  \n",
       "C  1.397996 -0.271248  0.613204         3  \n",
       "D -0.337632  1.256472 -0.731970         4  \n",
       "E  0.312170  0.565153 -0.147420         5  "
      ],
      "text/html": "<div>\n<style scoped>\n    .dataframe tbody tr th:only-of-type {\n        vertical-align: middle;\n    }\n\n    .dataframe tbody tr th {\n        vertical-align: top;\n    }\n\n    .dataframe thead th {\n        text-align: right;\n    }\n</style>\n<table border=\"1\" class=\"dataframe\">\n  <thead>\n    <tr style=\"text-align: right;\">\n      <th></th>\n      <th>K</th>\n      <th>L</th>\n      <th>M</th>\n      <th>N</th>\n      <th>O</th>\n      <th>P</th>\n      <th>Q</th>\n      <th>R</th>\n      <th>S</th>\n      <th>T</th>\n      <th>tambahan</th>\n    </tr>\n  </thead>\n  <tbody>\n    <tr>\n      <th>B</th>\n      <td>0.433026</td>\n      <td>1.203037</td>\n      <td>-0.965066</td>\n      <td>1.028274</td>\n      <td>0.228630</td>\n      <td>0.445138</td>\n      <td>-1.136602</td>\n      <td>0.135137</td>\n      <td>1.484537</td>\n      <td>-1.079805</td>\n      <td>2</td>\n    </tr>\n    <tr>\n      <th>C</th>\n      <td>-1.977728</td>\n      <td>-1.743372</td>\n      <td>0.266070</td>\n      <td>2.384967</td>\n      <td>1.123691</td>\n      <td>1.672622</td>\n      <td>0.099149</td>\n      <td>1.397996</td>\n      <td>-0.271248</td>\n      <td>0.613204</td>\n      <td>3</td>\n    </tr>\n    <tr>\n      <th>D</th>\n      <td>-0.267317</td>\n      <td>-0.549309</td>\n      <td>0.132708</td>\n      <td>-0.476142</td>\n      <td>1.308473</td>\n      <td>0.195013</td>\n      <td>0.400210</td>\n      <td>-0.337632</td>\n      <td>1.256472</td>\n      <td>-0.731970</td>\n      <td>4</td>\n    </tr>\n    <tr>\n      <th>E</th>\n      <td>0.660232</td>\n      <td>-0.350872</td>\n      <td>-0.939433</td>\n      <td>-0.489337</td>\n      <td>-0.804591</td>\n      <td>-0.212698</td>\n      <td>-0.339140</td>\n      <td>0.312170</td>\n      <td>0.565153</td>\n      <td>-0.147420</td>\n      <td>5</td>\n    </tr>\n  </tbody>\n</table>\n</div>"
     },
     "metadata": {},
     "execution_count": 58
    }
   ],
   "source": [
    "df.loc['B':'E']"
   ]
  },
  {
   "cell_type": "code",
   "execution_count": 59,
   "metadata": {},
   "outputs": [
    {
     "output_type": "execute_result",
     "data": {
      "text/plain": [
       "K           0.433026\n",
       "L           1.203037\n",
       "M          -0.965066\n",
       "N           1.028274\n",
       "O           0.228630\n",
       "P           0.445138\n",
       "Q          -1.136602\n",
       "R           0.135137\n",
       "S           1.484537\n",
       "T          -1.079805\n",
       "tambahan    2.000000\n",
       "Name: B, dtype: float64"
      ]
     },
     "metadata": {},
     "execution_count": 59
    }
   ],
   "source": [
    "df.iloc[1]"
   ]
  },
  {
   "cell_type": "code",
   "execution_count": 64,
   "metadata": {},
   "outputs": [
    {
     "output_type": "execute_result",
     "data": {
      "text/plain": [
       "          K         L         M         N         O         P         Q  \\\n",
       "B  0.433026  1.203037 -0.965066  1.028274  0.228630  0.445138 -1.136602   \n",
       "D -0.267317 -0.549309  0.132708 -0.476142  1.308473  0.195013  0.400210   \n",
       "\n",
       "          R         S         T  tambahan  \n",
       "B  0.135137  1.484537 -1.079805         2  \n",
       "D -0.337632  1.256472 -0.731970         4  "
      ],
      "text/html": "<div>\n<style scoped>\n    .dataframe tbody tr th:only-of-type {\n        vertical-align: middle;\n    }\n\n    .dataframe tbody tr th {\n        vertical-align: top;\n    }\n\n    .dataframe thead th {\n        text-align: right;\n    }\n</style>\n<table border=\"1\" class=\"dataframe\">\n  <thead>\n    <tr style=\"text-align: right;\">\n      <th></th>\n      <th>K</th>\n      <th>L</th>\n      <th>M</th>\n      <th>N</th>\n      <th>O</th>\n      <th>P</th>\n      <th>Q</th>\n      <th>R</th>\n      <th>S</th>\n      <th>T</th>\n      <th>tambahan</th>\n    </tr>\n  </thead>\n  <tbody>\n    <tr>\n      <th>B</th>\n      <td>0.433026</td>\n      <td>1.203037</td>\n      <td>-0.965066</td>\n      <td>1.028274</td>\n      <td>0.228630</td>\n      <td>0.445138</td>\n      <td>-1.136602</td>\n      <td>0.135137</td>\n      <td>1.484537</td>\n      <td>-1.079805</td>\n      <td>2</td>\n    </tr>\n    <tr>\n      <th>D</th>\n      <td>-0.267317</td>\n      <td>-0.549309</td>\n      <td>0.132708</td>\n      <td>-0.476142</td>\n      <td>1.308473</td>\n      <td>0.195013</td>\n      <td>0.400210</td>\n      <td>-0.337632</td>\n      <td>1.256472</td>\n      <td>-0.731970</td>\n      <td>4</td>\n    </tr>\n  </tbody>\n</table>\n</div>"
     },
     "metadata": {},
     "execution_count": 64
    }
   ],
   "source": [
    "df.iloc[1:5:2]"
   ]
  },
  {
   "cell_type": "code",
   "execution_count": 65,
   "metadata": {},
   "outputs": [
    {
     "output_type": "execute_result",
     "data": {
      "text/plain": [
       "          K         L\n",
       "A  1.331587  0.715279\n",
       "B  0.433026  1.203037\n",
       "C -1.977728 -1.743372\n",
       "D -0.267317 -0.549309\n",
       "E  0.660232 -0.350872\n",
       "F -0.025905  0.289094\n",
       "G -0.232182 -0.501729\n",
       "H  0.319356  0.460903\n",
       "I  1.985085  1.744814\n",
       "J  1.107708  0.244544"
      ],
      "text/html": "<div>\n<style scoped>\n    .dataframe tbody tr th:only-of-type {\n        vertical-align: middle;\n    }\n\n    .dataframe tbody tr th {\n        vertical-align: top;\n    }\n\n    .dataframe thead th {\n        text-align: right;\n    }\n</style>\n<table border=\"1\" class=\"dataframe\">\n  <thead>\n    <tr style=\"text-align: right;\">\n      <th></th>\n      <th>K</th>\n      <th>L</th>\n    </tr>\n  </thead>\n  <tbody>\n    <tr>\n      <th>A</th>\n      <td>1.331587</td>\n      <td>0.715279</td>\n    </tr>\n    <tr>\n      <th>B</th>\n      <td>0.433026</td>\n      <td>1.203037</td>\n    </tr>\n    <tr>\n      <th>C</th>\n      <td>-1.977728</td>\n      <td>-1.743372</td>\n    </tr>\n    <tr>\n      <th>D</th>\n      <td>-0.267317</td>\n      <td>-0.549309</td>\n    </tr>\n    <tr>\n      <th>E</th>\n      <td>0.660232</td>\n      <td>-0.350872</td>\n    </tr>\n    <tr>\n      <th>F</th>\n      <td>-0.025905</td>\n      <td>0.289094</td>\n    </tr>\n    <tr>\n      <th>G</th>\n      <td>-0.232182</td>\n      <td>-0.501729</td>\n    </tr>\n    <tr>\n      <th>H</th>\n      <td>0.319356</td>\n      <td>0.460903</td>\n    </tr>\n    <tr>\n      <th>I</th>\n      <td>1.985085</td>\n      <td>1.744814</td>\n    </tr>\n    <tr>\n      <th>J</th>\n      <td>1.107708</td>\n      <td>0.244544</td>\n    </tr>\n  </tbody>\n</table>\n</div>"
     },
     "metadata": {},
     "execution_count": 65
    }
   ],
   "source": [
    "df.iloc[:,0:2]"
   ]
  },
  {
   "cell_type": "code",
   "execution_count": 67,
   "metadata": {},
   "outputs": [
    {
     "output_type": "execute_result",
     "data": {
      "text/plain": [
       "1.028274077982704"
      ]
     },
     "metadata": {},
     "execution_count": 67
    }
   ],
   "source": [
    "df.iloc[1,3]"
   ]
  },
  {
   "cell_type": "code",
   "execution_count": 70,
   "metadata": {},
   "outputs": [
    {
     "output_type": "execute_result",
     "data": {
      "text/plain": [
       "          K         L         M         N         O         P         Q  \\\n",
       "A  1.331587  0.715279 -1.545400 -0.008384  0.621336 -0.720086  0.265512   \n",
       "D -0.267317 -0.549309  0.132708 -0.476142  1.308473  0.195013  0.400210   \n",
       "\n",
       "          R         S        T  tambahan  \n",
       "A  0.108549  0.004291 -0.17460         1  \n",
       "D -0.337632  1.256472 -0.73197         4  "
      ],
      "text/html": "<div>\n<style scoped>\n    .dataframe tbody tr th:only-of-type {\n        vertical-align: middle;\n    }\n\n    .dataframe tbody tr th {\n        vertical-align: top;\n    }\n\n    .dataframe thead th {\n        text-align: right;\n    }\n</style>\n<table border=\"1\" class=\"dataframe\">\n  <thead>\n    <tr style=\"text-align: right;\">\n      <th></th>\n      <th>K</th>\n      <th>L</th>\n      <th>M</th>\n      <th>N</th>\n      <th>O</th>\n      <th>P</th>\n      <th>Q</th>\n      <th>R</th>\n      <th>S</th>\n      <th>T</th>\n      <th>tambahan</th>\n    </tr>\n  </thead>\n  <tbody>\n    <tr>\n      <th>A</th>\n      <td>1.331587</td>\n      <td>0.715279</td>\n      <td>-1.545400</td>\n      <td>-0.008384</td>\n      <td>0.621336</td>\n      <td>-0.720086</td>\n      <td>0.265512</td>\n      <td>0.108549</td>\n      <td>0.004291</td>\n      <td>-0.17460</td>\n      <td>1</td>\n    </tr>\n    <tr>\n      <th>D</th>\n      <td>-0.267317</td>\n      <td>-0.549309</td>\n      <td>0.132708</td>\n      <td>-0.476142</td>\n      <td>1.308473</td>\n      <td>0.195013</td>\n      <td>0.400210</td>\n      <td>-0.337632</td>\n      <td>1.256472</td>\n      <td>-0.73197</td>\n      <td>4</td>\n    </tr>\n  </tbody>\n</table>\n</div>"
     },
     "metadata": {},
     "execution_count": 70
    }
   ],
   "source": [
    "df.iloc[[0,3]]"
   ]
  },
  {
   "cell_type": "code",
   "execution_count": 71,
   "metadata": {},
   "outputs": [
    {
     "output_type": "execute_result",
     "data": {
      "text/plain": [
       "       K      L      M      N      O      P      Q      R      S      T  \\\n",
       "A   True   True  False  False   True  False   True   True   True  False   \n",
       "B   True   True  False   True   True   True  False   True   True  False   \n",
       "C  False  False   True   True   True   True   True   True  False   True   \n",
       "D  False  False   True  False   True   True   True  False   True  False   \n",
       "E   True  False  False  False  False  False  False   True   True  False   \n",
       "F  False   True  False   True   True   True   True   True  False  False   \n",
       "G  False  False   True  False  False  False   True  False  False  False   \n",
       "H   True   True  False   True   True   True  False   True  False  False   \n",
       "I   True   True  False  False  False  False  False   True   True  False   \n",
       "J   True   True  False  False   True   True  False   True   True  False   \n",
       "\n",
       "   tambahan  \n",
       "A      True  \n",
       "B      True  \n",
       "C      True  \n",
       "D      True  \n",
       "E      True  \n",
       "F      True  \n",
       "G      True  \n",
       "H      True  \n",
       "I      True  \n",
       "J      True  "
      ],
      "text/html": "<div>\n<style scoped>\n    .dataframe tbody tr th:only-of-type {\n        vertical-align: middle;\n    }\n\n    .dataframe tbody tr th {\n        vertical-align: top;\n    }\n\n    .dataframe thead th {\n        text-align: right;\n    }\n</style>\n<table border=\"1\" class=\"dataframe\">\n  <thead>\n    <tr style=\"text-align: right;\">\n      <th></th>\n      <th>K</th>\n      <th>L</th>\n      <th>M</th>\n      <th>N</th>\n      <th>O</th>\n      <th>P</th>\n      <th>Q</th>\n      <th>R</th>\n      <th>S</th>\n      <th>T</th>\n      <th>tambahan</th>\n    </tr>\n  </thead>\n  <tbody>\n    <tr>\n      <th>A</th>\n      <td>True</td>\n      <td>True</td>\n      <td>False</td>\n      <td>False</td>\n      <td>True</td>\n      <td>False</td>\n      <td>True</td>\n      <td>True</td>\n      <td>True</td>\n      <td>False</td>\n      <td>True</td>\n    </tr>\n    <tr>\n      <th>B</th>\n      <td>True</td>\n      <td>True</td>\n      <td>False</td>\n      <td>True</td>\n      <td>True</td>\n      <td>True</td>\n      <td>False</td>\n      <td>True</td>\n      <td>True</td>\n      <td>False</td>\n      <td>True</td>\n    </tr>\n    <tr>\n      <th>C</th>\n      <td>False</td>\n      <td>False</td>\n      <td>True</td>\n      <td>True</td>\n      <td>True</td>\n      <td>True</td>\n      <td>True</td>\n      <td>True</td>\n      <td>False</td>\n      <td>True</td>\n      <td>True</td>\n    </tr>\n    <tr>\n      <th>D</th>\n      <td>False</td>\n      <td>False</td>\n      <td>True</td>\n      <td>False</td>\n      <td>True</td>\n      <td>True</td>\n      <td>True</td>\n      <td>False</td>\n      <td>True</td>\n      <td>False</td>\n      <td>True</td>\n    </tr>\n    <tr>\n      <th>E</th>\n      <td>True</td>\n      <td>False</td>\n      <td>False</td>\n      <td>False</td>\n      <td>False</td>\n      <td>False</td>\n      <td>False</td>\n      <td>True</td>\n      <td>True</td>\n      <td>False</td>\n      <td>True</td>\n    </tr>\n    <tr>\n      <th>F</th>\n      <td>False</td>\n      <td>True</td>\n      <td>False</td>\n      <td>True</td>\n      <td>True</td>\n      <td>True</td>\n      <td>True</td>\n      <td>True</td>\n      <td>False</td>\n      <td>False</td>\n      <td>True</td>\n    </tr>\n    <tr>\n      <th>G</th>\n      <td>False</td>\n      <td>False</td>\n      <td>True</td>\n      <td>False</td>\n      <td>False</td>\n      <td>False</td>\n      <td>True</td>\n      <td>False</td>\n      <td>False</td>\n      <td>False</td>\n      <td>True</td>\n    </tr>\n    <tr>\n      <th>H</th>\n      <td>True</td>\n      <td>True</td>\n      <td>False</td>\n      <td>True</td>\n      <td>True</td>\n      <td>True</td>\n      <td>False</td>\n      <td>True</td>\n      <td>False</td>\n      <td>False</td>\n      <td>True</td>\n    </tr>\n    <tr>\n      <th>I</th>\n      <td>True</td>\n      <td>True</td>\n      <td>False</td>\n      <td>False</td>\n      <td>False</td>\n      <td>False</td>\n      <td>False</td>\n      <td>True</td>\n      <td>True</td>\n      <td>False</td>\n      <td>True</td>\n    </tr>\n    <tr>\n      <th>J</th>\n      <td>True</td>\n      <td>True</td>\n      <td>False</td>\n      <td>False</td>\n      <td>True</td>\n      <td>True</td>\n      <td>False</td>\n      <td>True</td>\n      <td>True</td>\n      <td>False</td>\n      <td>True</td>\n    </tr>\n  </tbody>\n</table>\n</div>"
     },
     "metadata": {},
     "execution_count": 71
    }
   ],
   "source": [
    "df>0"
   ]
  },
  {
   "cell_type": "code",
   "execution_count": 72,
   "metadata": {},
   "outputs": [
    {
     "output_type": "execute_result",
     "data": {
      "text/plain": [
       "          K         L         M         N         O         P         Q  \\\n",
       "A  1.331587  0.715279       NaN       NaN  0.621336       NaN  0.265512   \n",
       "B  0.433026  1.203037       NaN  1.028274  0.228630  0.445138       NaN   \n",
       "C       NaN       NaN  0.266070  2.384967  1.123691  1.672622  0.099149   \n",
       "D       NaN       NaN  0.132708       NaN  1.308473  0.195013  0.400210   \n",
       "E  0.660232       NaN       NaN       NaN       NaN       NaN       NaN   \n",
       "F       NaN  0.289094       NaN  0.708160  0.842225  0.203581  2.394704   \n",
       "G       NaN       NaN  1.128785       NaN       NaN       NaN  1.046183   \n",
       "H  0.319356  0.460903       NaN  0.989072  0.314754  2.467651       NaN   \n",
       "I  1.985085  1.744814       NaN       NaN       NaN       NaN       NaN   \n",
       "J  1.107708  0.244544       NaN       NaN  0.711959  0.918269       NaN   \n",
       "\n",
       "          R         S         T  tambahan  \n",
       "A  0.108549  0.004291       NaN         1  \n",
       "B  0.135137  1.484537       NaN         2  \n",
       "C  1.397996       NaN  0.613204         3  \n",
       "D       NaN  1.256472       NaN         4  \n",
       "E  0.312170  0.565153       NaN         5  \n",
       "F  0.917459       NaN       NaN         6  \n",
       "G       NaN       NaN       NaN         7  \n",
       "H  0.620601       NaN       NaN         8  \n",
       "I  0.393341  0.217265       NaN         9  \n",
       "J  0.089588  0.826999       NaN        10  "
      ],
      "text/html": "<div>\n<style scoped>\n    .dataframe tbody tr th:only-of-type {\n        vertical-align: middle;\n    }\n\n    .dataframe tbody tr th {\n        vertical-align: top;\n    }\n\n    .dataframe thead th {\n        text-align: right;\n    }\n</style>\n<table border=\"1\" class=\"dataframe\">\n  <thead>\n    <tr style=\"text-align: right;\">\n      <th></th>\n      <th>K</th>\n      <th>L</th>\n      <th>M</th>\n      <th>N</th>\n      <th>O</th>\n      <th>P</th>\n      <th>Q</th>\n      <th>R</th>\n      <th>S</th>\n      <th>T</th>\n      <th>tambahan</th>\n    </tr>\n  </thead>\n  <tbody>\n    <tr>\n      <th>A</th>\n      <td>1.331587</td>\n      <td>0.715279</td>\n      <td>NaN</td>\n      <td>NaN</td>\n      <td>0.621336</td>\n      <td>NaN</td>\n      <td>0.265512</td>\n      <td>0.108549</td>\n      <td>0.004291</td>\n      <td>NaN</td>\n      <td>1</td>\n    </tr>\n    <tr>\n      <th>B</th>\n      <td>0.433026</td>\n      <td>1.203037</td>\n      <td>NaN</td>\n      <td>1.028274</td>\n      <td>0.228630</td>\n      <td>0.445138</td>\n      <td>NaN</td>\n      <td>0.135137</td>\n      <td>1.484537</td>\n      <td>NaN</td>\n      <td>2</td>\n    </tr>\n    <tr>\n      <th>C</th>\n      <td>NaN</td>\n      <td>NaN</td>\n      <td>0.266070</td>\n      <td>2.384967</td>\n      <td>1.123691</td>\n      <td>1.672622</td>\n      <td>0.099149</td>\n      <td>1.397996</td>\n      <td>NaN</td>\n      <td>0.613204</td>\n      <td>3</td>\n    </tr>\n    <tr>\n      <th>D</th>\n      <td>NaN</td>\n      <td>NaN</td>\n      <td>0.132708</td>\n      <td>NaN</td>\n      <td>1.308473</td>\n      <td>0.195013</td>\n      <td>0.400210</td>\n      <td>NaN</td>\n      <td>1.256472</td>\n      <td>NaN</td>\n      <td>4</td>\n    </tr>\n    <tr>\n      <th>E</th>\n      <td>0.660232</td>\n      <td>NaN</td>\n      <td>NaN</td>\n      <td>NaN</td>\n      <td>NaN</td>\n      <td>NaN</td>\n      <td>NaN</td>\n      <td>0.312170</td>\n      <td>0.565153</td>\n      <td>NaN</td>\n      <td>5</td>\n    </tr>\n    <tr>\n      <th>F</th>\n      <td>NaN</td>\n      <td>0.289094</td>\n      <td>NaN</td>\n      <td>0.708160</td>\n      <td>0.842225</td>\n      <td>0.203581</td>\n      <td>2.394704</td>\n      <td>0.917459</td>\n      <td>NaN</td>\n      <td>NaN</td>\n      <td>6</td>\n    </tr>\n    <tr>\n      <th>G</th>\n      <td>NaN</td>\n      <td>NaN</td>\n      <td>1.128785</td>\n      <td>NaN</td>\n      <td>NaN</td>\n      <td>NaN</td>\n      <td>1.046183</td>\n      <td>NaN</td>\n      <td>NaN</td>\n      <td>NaN</td>\n      <td>7</td>\n    </tr>\n    <tr>\n      <th>H</th>\n      <td>0.319356</td>\n      <td>0.460903</td>\n      <td>NaN</td>\n      <td>0.989072</td>\n      <td>0.314754</td>\n      <td>2.467651</td>\n      <td>NaN</td>\n      <td>0.620601</td>\n      <td>NaN</td>\n      <td>NaN</td>\n      <td>8</td>\n    </tr>\n    <tr>\n      <th>I</th>\n      <td>1.985085</td>\n      <td>1.744814</td>\n      <td>NaN</td>\n      <td>NaN</td>\n      <td>NaN</td>\n      <td>NaN</td>\n      <td>NaN</td>\n      <td>0.393341</td>\n      <td>0.217265</td>\n      <td>NaN</td>\n      <td>9</td>\n    </tr>\n    <tr>\n      <th>J</th>\n      <td>1.107708</td>\n      <td>0.244544</td>\n      <td>NaN</td>\n      <td>NaN</td>\n      <td>0.711959</td>\n      <td>0.918269</td>\n      <td>NaN</td>\n      <td>0.089588</td>\n      <td>0.826999</td>\n      <td>NaN</td>\n      <td>10</td>\n    </tr>\n  </tbody>\n</table>\n</div>"
     },
     "metadata": {},
     "execution_count": 72
    }
   ],
   "source": [
    "df[df>0]"
   ]
  },
  {
   "cell_type": "code",
   "execution_count": 76,
   "metadata": {},
   "outputs": [
    {
     "output_type": "execute_result",
     "data": {
      "text/plain": [
       "          K         L         M         N         O         P         Q  \\\n",
       "A  1.331587  0.715279 -1.545400 -0.008384  0.621336 -0.720086  0.265512   \n",
       "B  0.433026  1.203037 -0.965066  1.028274  0.228630  0.445138 -1.136602   \n",
       "C -1.977728 -1.743372  0.266070  2.384967  1.123691  1.672622  0.099149   \n",
       "E  0.660232 -0.350872 -0.939433 -0.489337 -0.804591 -0.212698 -0.339140   \n",
       "F -0.025905  0.289094 -0.539879  0.708160  0.842225  0.203581  2.394704   \n",
       "H  0.319356  0.460903 -0.215790  0.989072  0.314754  2.467651 -1.508321   \n",
       "I  1.985085  1.744814 -1.856185 -0.222774 -0.065848 -2.131712 -0.048831   \n",
       "J  1.107708  0.244544 -0.061912 -0.753893  0.711959  0.918269 -0.482093   \n",
       "\n",
       "          R         S         T  tambahan  \n",
       "A  0.108549  0.004291 -0.174600         1  \n",
       "B  0.135137  1.484537 -1.079805         2  \n",
       "C  1.397996 -0.271248  0.613204         3  \n",
       "E  0.312170  0.565153 -0.147420         5  \n",
       "F  0.917459 -0.112272 -0.362180         6  \n",
       "H  0.620601 -1.045133 -0.798009         8  \n",
       "I  0.393341  0.217265 -1.994394         9  \n",
       "J  0.089588  0.826999 -1.954512        10  "
      ],
      "text/html": "<div>\n<style scoped>\n    .dataframe tbody tr th:only-of-type {\n        vertical-align: middle;\n    }\n\n    .dataframe tbody tr th {\n        vertical-align: top;\n    }\n\n    .dataframe thead th {\n        text-align: right;\n    }\n</style>\n<table border=\"1\" class=\"dataframe\">\n  <thead>\n    <tr style=\"text-align: right;\">\n      <th></th>\n      <th>K</th>\n      <th>L</th>\n      <th>M</th>\n      <th>N</th>\n      <th>O</th>\n      <th>P</th>\n      <th>Q</th>\n      <th>R</th>\n      <th>S</th>\n      <th>T</th>\n      <th>tambahan</th>\n    </tr>\n  </thead>\n  <tbody>\n    <tr>\n      <th>A</th>\n      <td>1.331587</td>\n      <td>0.715279</td>\n      <td>-1.545400</td>\n      <td>-0.008384</td>\n      <td>0.621336</td>\n      <td>-0.720086</td>\n      <td>0.265512</td>\n      <td>0.108549</td>\n      <td>0.004291</td>\n      <td>-0.174600</td>\n      <td>1</td>\n    </tr>\n    <tr>\n      <th>B</th>\n      <td>0.433026</td>\n      <td>1.203037</td>\n      <td>-0.965066</td>\n      <td>1.028274</td>\n      <td>0.228630</td>\n      <td>0.445138</td>\n      <td>-1.136602</td>\n      <td>0.135137</td>\n      <td>1.484537</td>\n      <td>-1.079805</td>\n      <td>2</td>\n    </tr>\n    <tr>\n      <th>C</th>\n      <td>-1.977728</td>\n      <td>-1.743372</td>\n      <td>0.266070</td>\n      <td>2.384967</td>\n      <td>1.123691</td>\n      <td>1.672622</td>\n      <td>0.099149</td>\n      <td>1.397996</td>\n      <td>-0.271248</td>\n      <td>0.613204</td>\n      <td>3</td>\n    </tr>\n    <tr>\n      <th>E</th>\n      <td>0.660232</td>\n      <td>-0.350872</td>\n      <td>-0.939433</td>\n      <td>-0.489337</td>\n      <td>-0.804591</td>\n      <td>-0.212698</td>\n      <td>-0.339140</td>\n      <td>0.312170</td>\n      <td>0.565153</td>\n      <td>-0.147420</td>\n      <td>5</td>\n    </tr>\n    <tr>\n      <th>F</th>\n      <td>-0.025905</td>\n      <td>0.289094</td>\n      <td>-0.539879</td>\n      <td>0.708160</td>\n      <td>0.842225</td>\n      <td>0.203581</td>\n      <td>2.394704</td>\n      <td>0.917459</td>\n      <td>-0.112272</td>\n      <td>-0.362180</td>\n      <td>6</td>\n    </tr>\n    <tr>\n      <th>H</th>\n      <td>0.319356</td>\n      <td>0.460903</td>\n      <td>-0.215790</td>\n      <td>0.989072</td>\n      <td>0.314754</td>\n      <td>2.467651</td>\n      <td>-1.508321</td>\n      <td>0.620601</td>\n      <td>-1.045133</td>\n      <td>-0.798009</td>\n      <td>8</td>\n    </tr>\n    <tr>\n      <th>I</th>\n      <td>1.985085</td>\n      <td>1.744814</td>\n      <td>-1.856185</td>\n      <td>-0.222774</td>\n      <td>-0.065848</td>\n      <td>-2.131712</td>\n      <td>-0.048831</td>\n      <td>0.393341</td>\n      <td>0.217265</td>\n      <td>-1.994394</td>\n      <td>9</td>\n    </tr>\n    <tr>\n      <th>J</th>\n      <td>1.107708</td>\n      <td>0.244544</td>\n      <td>-0.061912</td>\n      <td>-0.753893</td>\n      <td>0.711959</td>\n      <td>0.918269</td>\n      <td>-0.482093</td>\n      <td>0.089588</td>\n      <td>0.826999</td>\n      <td>-1.954512</td>\n      <td>10</td>\n    </tr>\n  </tbody>\n</table>\n</div>"
     },
     "metadata": {},
     "execution_count": 76
    }
   ],
   "source": [
    "df[df['R']>0]"
   ]
  },
  {
   "cell_type": "code",
   "execution_count": 74,
   "metadata": {},
   "outputs": [
    {
     "output_type": "execute_result",
     "data": {
      "text/plain": [
       "A   -0.720086\n",
       "B    0.445138\n",
       "E   -0.212698\n",
       "H    2.467651\n",
       "I   -2.131712\n",
       "J    0.918269\n",
       "Name: P, dtype: float64"
      ]
     },
     "metadata": {},
     "execution_count": 74
    }
   ],
   "source": [
    "df[df['K']>0]['P']"
   ]
  },
  {
   "cell_type": "code",
   "execution_count": 77,
   "metadata": {},
   "outputs": [],
   "source": [
    "import numpy as np\n",
    "import pandas as pd"
   ]
  },
  {
   "cell_type": "code",
   "execution_count": 81,
   "metadata": {},
   "outputs": [
    {
     "output_type": "execute_result",
     "data": {
      "text/plain": [
       "            K         L         M         N         O         P         Q  \\\n",
       "A    1.331587  0.715279 -1.545400 -0.008384  0.621336 -0.720086  0.265512   \n",
       "B    0.433026  1.203037 -0.965066  1.028274  0.228630  0.445138 -1.136602   \n",
       "C   -1.977728 -1.743372  0.266070  2.384967  1.123691  1.672622  0.099149   \n",
       "D   -0.267317 -0.549309  0.132708 -0.476142  1.308473  0.195013  0.400210   \n",
       "E    0.660232 -0.350872 -0.939433 -0.489337 -0.804591 -0.212698 -0.339140   \n",
       "F   -0.025905  0.289094 -0.539879  0.708160  0.842225  0.203581  2.394704   \n",
       "G   -0.232182 -0.501729  1.128785 -0.697810 -0.081122 -0.529296  1.046183   \n",
       "H    0.319356  0.460903 -0.215790  0.989072  0.314754  2.467651 -1.508321   \n",
       "I    1.985085  1.744814 -1.856185 -0.222774 -0.065848 -2.131712 -0.048831   \n",
       "J    1.107708  0.244544 -0.061912 -0.753893  0.711959  0.918269 -0.482093   \n",
       "new  1.000000  2.000000  3.000000  4.000000  5.000000  6.000000  7.000000   \n",
       "\n",
       "            R         S          T  tambahan  \n",
       "A    0.108549  0.004291  -0.174600         1  \n",
       "B    0.135137  1.484537  -1.079805         2  \n",
       "C    1.397996 -0.271248   0.613204         3  \n",
       "D   -0.337632  1.256472  -0.731970         4  \n",
       "E    0.312170  0.565153  -0.147420         5  \n",
       "F    0.917459 -0.112272  -0.362180         6  \n",
       "G   -1.418556 -0.362499  -0.121906         7  \n",
       "H    0.620601 -1.045133  -0.798009         8  \n",
       "I    0.393341  0.217265  -1.994394         9  \n",
       "J    0.089588  0.826999  -1.954512        10  \n",
       "new  8.000000  9.000000  10.000000        11  "
      ],
      "text/html": "<div>\n<style scoped>\n    .dataframe tbody tr th:only-of-type {\n        vertical-align: middle;\n    }\n\n    .dataframe tbody tr th {\n        vertical-align: top;\n    }\n\n    .dataframe thead th {\n        text-align: right;\n    }\n</style>\n<table border=\"1\" class=\"dataframe\">\n  <thead>\n    <tr style=\"text-align: right;\">\n      <th></th>\n      <th>K</th>\n      <th>L</th>\n      <th>M</th>\n      <th>N</th>\n      <th>O</th>\n      <th>P</th>\n      <th>Q</th>\n      <th>R</th>\n      <th>S</th>\n      <th>T</th>\n      <th>tambahan</th>\n    </tr>\n  </thead>\n  <tbody>\n    <tr>\n      <th>A</th>\n      <td>1.331587</td>\n      <td>0.715279</td>\n      <td>-1.545400</td>\n      <td>-0.008384</td>\n      <td>0.621336</td>\n      <td>-0.720086</td>\n      <td>0.265512</td>\n      <td>0.108549</td>\n      <td>0.004291</td>\n      <td>-0.174600</td>\n      <td>1</td>\n    </tr>\n    <tr>\n      <th>B</th>\n      <td>0.433026</td>\n      <td>1.203037</td>\n      <td>-0.965066</td>\n      <td>1.028274</td>\n      <td>0.228630</td>\n      <td>0.445138</td>\n      <td>-1.136602</td>\n      <td>0.135137</td>\n      <td>1.484537</td>\n      <td>-1.079805</td>\n      <td>2</td>\n    </tr>\n    <tr>\n      <th>C</th>\n      <td>-1.977728</td>\n      <td>-1.743372</td>\n      <td>0.266070</td>\n      <td>2.384967</td>\n      <td>1.123691</td>\n      <td>1.672622</td>\n      <td>0.099149</td>\n      <td>1.397996</td>\n      <td>-0.271248</td>\n      <td>0.613204</td>\n      <td>3</td>\n    </tr>\n    <tr>\n      <th>D</th>\n      <td>-0.267317</td>\n      <td>-0.549309</td>\n      <td>0.132708</td>\n      <td>-0.476142</td>\n      <td>1.308473</td>\n      <td>0.195013</td>\n      <td>0.400210</td>\n      <td>-0.337632</td>\n      <td>1.256472</td>\n      <td>-0.731970</td>\n      <td>4</td>\n    </tr>\n    <tr>\n      <th>E</th>\n      <td>0.660232</td>\n      <td>-0.350872</td>\n      <td>-0.939433</td>\n      <td>-0.489337</td>\n      <td>-0.804591</td>\n      <td>-0.212698</td>\n      <td>-0.339140</td>\n      <td>0.312170</td>\n      <td>0.565153</td>\n      <td>-0.147420</td>\n      <td>5</td>\n    </tr>\n    <tr>\n      <th>F</th>\n      <td>-0.025905</td>\n      <td>0.289094</td>\n      <td>-0.539879</td>\n      <td>0.708160</td>\n      <td>0.842225</td>\n      <td>0.203581</td>\n      <td>2.394704</td>\n      <td>0.917459</td>\n      <td>-0.112272</td>\n      <td>-0.362180</td>\n      <td>6</td>\n    </tr>\n    <tr>\n      <th>G</th>\n      <td>-0.232182</td>\n      <td>-0.501729</td>\n      <td>1.128785</td>\n      <td>-0.697810</td>\n      <td>-0.081122</td>\n      <td>-0.529296</td>\n      <td>1.046183</td>\n      <td>-1.418556</td>\n      <td>-0.362499</td>\n      <td>-0.121906</td>\n      <td>7</td>\n    </tr>\n    <tr>\n      <th>H</th>\n      <td>0.319356</td>\n      <td>0.460903</td>\n      <td>-0.215790</td>\n      <td>0.989072</td>\n      <td>0.314754</td>\n      <td>2.467651</td>\n      <td>-1.508321</td>\n      <td>0.620601</td>\n      <td>-1.045133</td>\n      <td>-0.798009</td>\n      <td>8</td>\n    </tr>\n    <tr>\n      <th>I</th>\n      <td>1.985085</td>\n      <td>1.744814</td>\n      <td>-1.856185</td>\n      <td>-0.222774</td>\n      <td>-0.065848</td>\n      <td>-2.131712</td>\n      <td>-0.048831</td>\n      <td>0.393341</td>\n      <td>0.217265</td>\n      <td>-1.994394</td>\n      <td>9</td>\n    </tr>\n    <tr>\n      <th>J</th>\n      <td>1.107708</td>\n      <td>0.244544</td>\n      <td>-0.061912</td>\n      <td>-0.753893</td>\n      <td>0.711959</td>\n      <td>0.918269</td>\n      <td>-0.482093</td>\n      <td>0.089588</td>\n      <td>0.826999</td>\n      <td>-1.954512</td>\n      <td>10</td>\n    </tr>\n    <tr>\n      <th>new</th>\n      <td>1.000000</td>\n      <td>2.000000</td>\n      <td>3.000000</td>\n      <td>4.000000</td>\n      <td>5.000000</td>\n      <td>6.000000</td>\n      <td>7.000000</td>\n      <td>8.000000</td>\n      <td>9.000000</td>\n      <td>10.000000</td>\n      <td>11</td>\n    </tr>\n  </tbody>\n</table>\n</div>"
     },
     "metadata": {},
     "execution_count": 81
    }
   ],
   "source": [
    "df.loc['new']=[1,2,3,4,5,6,7,8,9,10,11]\n",
    "df"
   ]
  },
  {
   "cell_type": "code",
   "execution_count": 84,
   "metadata": {},
   "outputs": [],
   "source": [
    "df['new'] = df['K']+df['tambahan']"
   ]
  },
  {
   "cell_type": "code",
   "execution_count": 85,
   "metadata": {},
   "outputs": [
    {
     "output_type": "execute_result",
     "data": {
      "text/plain": [
       "            K         L         M         N         O         P         Q  \\\n",
       "A    1.331587  0.715279 -1.545400 -0.008384  0.621336 -0.720086  0.265512   \n",
       "B    0.433026  1.203037 -0.965066  1.028274  0.228630  0.445138 -1.136602   \n",
       "C   -1.977728 -1.743372  0.266070  2.384967  1.123691  1.672622  0.099149   \n",
       "D   -0.267317 -0.549309  0.132708 -0.476142  1.308473  0.195013  0.400210   \n",
       "E    0.660232 -0.350872 -0.939433 -0.489337 -0.804591 -0.212698 -0.339140   \n",
       "F   -0.025905  0.289094 -0.539879  0.708160  0.842225  0.203581  2.394704   \n",
       "G   -0.232182 -0.501729  1.128785 -0.697810 -0.081122 -0.529296  1.046183   \n",
       "H    0.319356  0.460903 -0.215790  0.989072  0.314754  2.467651 -1.508321   \n",
       "I    1.985085  1.744814 -1.856185 -0.222774 -0.065848 -2.131712 -0.048831   \n",
       "J    1.107708  0.244544 -0.061912 -0.753893  0.711959  0.918269 -0.482093   \n",
       "new  1.000000  2.000000  3.000000  4.000000  5.000000  6.000000  7.000000   \n",
       "\n",
       "            R         S          T  tambahan        new  \n",
       "A    0.108549  0.004291  -0.174600         1   2.331587  \n",
       "B    0.135137  1.484537  -1.079805         2   2.433026  \n",
       "C    1.397996 -0.271248   0.613204         3   1.022272  \n",
       "D   -0.337632  1.256472  -0.731970         4   3.732683  \n",
       "E    0.312170  0.565153  -0.147420         5   5.660232  \n",
       "F    0.917459 -0.112272  -0.362180         6   5.974095  \n",
       "G   -1.418556 -0.362499  -0.121906         7   6.767818  \n",
       "H    0.620601 -1.045133  -0.798009         8   8.319356  \n",
       "I    0.393341  0.217265  -1.994394         9  10.985085  \n",
       "J    0.089588  0.826999  -1.954512        10  11.107708  \n",
       "new  8.000000  9.000000  10.000000        11  12.000000  "
      ],
      "text/html": "<div>\n<style scoped>\n    .dataframe tbody tr th:only-of-type {\n        vertical-align: middle;\n    }\n\n    .dataframe tbody tr th {\n        vertical-align: top;\n    }\n\n    .dataframe thead th {\n        text-align: right;\n    }\n</style>\n<table border=\"1\" class=\"dataframe\">\n  <thead>\n    <tr style=\"text-align: right;\">\n      <th></th>\n      <th>K</th>\n      <th>L</th>\n      <th>M</th>\n      <th>N</th>\n      <th>O</th>\n      <th>P</th>\n      <th>Q</th>\n      <th>R</th>\n      <th>S</th>\n      <th>T</th>\n      <th>tambahan</th>\n      <th>new</th>\n    </tr>\n  </thead>\n  <tbody>\n    <tr>\n      <th>A</th>\n      <td>1.331587</td>\n      <td>0.715279</td>\n      <td>-1.545400</td>\n      <td>-0.008384</td>\n      <td>0.621336</td>\n      <td>-0.720086</td>\n      <td>0.265512</td>\n      <td>0.108549</td>\n      <td>0.004291</td>\n      <td>-0.174600</td>\n      <td>1</td>\n      <td>2.331587</td>\n    </tr>\n    <tr>\n      <th>B</th>\n      <td>0.433026</td>\n      <td>1.203037</td>\n      <td>-0.965066</td>\n      <td>1.028274</td>\n      <td>0.228630</td>\n      <td>0.445138</td>\n      <td>-1.136602</td>\n      <td>0.135137</td>\n      <td>1.484537</td>\n      <td>-1.079805</td>\n      <td>2</td>\n      <td>2.433026</td>\n    </tr>\n    <tr>\n      <th>C</th>\n      <td>-1.977728</td>\n      <td>-1.743372</td>\n      <td>0.266070</td>\n      <td>2.384967</td>\n      <td>1.123691</td>\n      <td>1.672622</td>\n      <td>0.099149</td>\n      <td>1.397996</td>\n      <td>-0.271248</td>\n      <td>0.613204</td>\n      <td>3</td>\n      <td>1.022272</td>\n    </tr>\n    <tr>\n      <th>D</th>\n      <td>-0.267317</td>\n      <td>-0.549309</td>\n      <td>0.132708</td>\n      <td>-0.476142</td>\n      <td>1.308473</td>\n      <td>0.195013</td>\n      <td>0.400210</td>\n      <td>-0.337632</td>\n      <td>1.256472</td>\n      <td>-0.731970</td>\n      <td>4</td>\n      <td>3.732683</td>\n    </tr>\n    <tr>\n      <th>E</th>\n      <td>0.660232</td>\n      <td>-0.350872</td>\n      <td>-0.939433</td>\n      <td>-0.489337</td>\n      <td>-0.804591</td>\n      <td>-0.212698</td>\n      <td>-0.339140</td>\n      <td>0.312170</td>\n      <td>0.565153</td>\n      <td>-0.147420</td>\n      <td>5</td>\n      <td>5.660232</td>\n    </tr>\n    <tr>\n      <th>F</th>\n      <td>-0.025905</td>\n      <td>0.289094</td>\n      <td>-0.539879</td>\n      <td>0.708160</td>\n      <td>0.842225</td>\n      <td>0.203581</td>\n      <td>2.394704</td>\n      <td>0.917459</td>\n      <td>-0.112272</td>\n      <td>-0.362180</td>\n      <td>6</td>\n      <td>5.974095</td>\n    </tr>\n    <tr>\n      <th>G</th>\n      <td>-0.232182</td>\n      <td>-0.501729</td>\n      <td>1.128785</td>\n      <td>-0.697810</td>\n      <td>-0.081122</td>\n      <td>-0.529296</td>\n      <td>1.046183</td>\n      <td>-1.418556</td>\n      <td>-0.362499</td>\n      <td>-0.121906</td>\n      <td>7</td>\n      <td>6.767818</td>\n    </tr>\n    <tr>\n      <th>H</th>\n      <td>0.319356</td>\n      <td>0.460903</td>\n      <td>-0.215790</td>\n      <td>0.989072</td>\n      <td>0.314754</td>\n      <td>2.467651</td>\n      <td>-1.508321</td>\n      <td>0.620601</td>\n      <td>-1.045133</td>\n      <td>-0.798009</td>\n      <td>8</td>\n      <td>8.319356</td>\n    </tr>\n    <tr>\n      <th>I</th>\n      <td>1.985085</td>\n      <td>1.744814</td>\n      <td>-1.856185</td>\n      <td>-0.222774</td>\n      <td>-0.065848</td>\n      <td>-2.131712</td>\n      <td>-0.048831</td>\n      <td>0.393341</td>\n      <td>0.217265</td>\n      <td>-1.994394</td>\n      <td>9</td>\n      <td>10.985085</td>\n    </tr>\n    <tr>\n      <th>J</th>\n      <td>1.107708</td>\n      <td>0.244544</td>\n      <td>-0.061912</td>\n      <td>-0.753893</td>\n      <td>0.711959</td>\n      <td>0.918269</td>\n      <td>-0.482093</td>\n      <td>0.089588</td>\n      <td>0.826999</td>\n      <td>-1.954512</td>\n      <td>10</td>\n      <td>11.107708</td>\n    </tr>\n    <tr>\n      <th>new</th>\n      <td>1.000000</td>\n      <td>2.000000</td>\n      <td>3.000000</td>\n      <td>4.000000</td>\n      <td>5.000000</td>\n      <td>6.000000</td>\n      <td>7.000000</td>\n      <td>8.000000</td>\n      <td>9.000000</td>\n      <td>10.000000</td>\n      <td>11</td>\n      <td>12.000000</td>\n    </tr>\n  </tbody>\n</table>\n</div>"
     },
     "metadata": {},
     "execution_count": 85
    }
   ],
   "source": [
    "df"
   ]
  },
  {
   "cell_type": "code",
   "execution_count": 100,
   "metadata": {},
   "outputs": [
    {
     "output_type": "execute_result",
     "data": {
      "text/plain": [
       "            K         L         M         N         O         P         Q  \\\n",
       "A    1.331587  0.715279 -1.545400 -0.008384  0.621336 -0.720086  0.265512   \n",
       "B    0.433026  1.203037 -0.965066  1.028274  0.228630  0.445138 -1.136602   \n",
       "C   -1.977728 -1.743372  0.266070  2.384967  1.123691  1.672622  0.099149   \n",
       "D   -0.267317 -0.549309  0.132708 -0.476142  1.308473  0.195013  0.400210   \n",
       "E    0.660232 -0.350872 -0.939433 -0.489337 -0.804591 -0.212698 -0.339140   \n",
       "F   -0.025905  0.289094 -0.539879  0.708160  0.842225  0.203581  2.394704   \n",
       "G   -0.232182 -0.501729  1.128785 -0.697810 -0.081122 -0.529296  1.046183   \n",
       "H    0.319356  0.460903 -0.215790  0.989072  0.314754  2.467651 -1.508321   \n",
       "I    1.985085  1.744814 -1.856185 -0.222774 -0.065848 -2.131712 -0.048831   \n",
       "J    1.107708  0.244544 -0.061912 -0.753893  0.711959  0.918269 -0.482093   \n",
       "new  1.000000  2.000000  3.000000  4.000000  5.000000  6.000000  7.000000   \n",
       "\n",
       "            R         S          T  tambahan  \n",
       "A    0.108549  0.004291  -0.174600         1  \n",
       "B    0.135137  1.484537  -1.079805         2  \n",
       "C    1.397996 -0.271248   0.613204         3  \n",
       "D   -0.337632  1.256472  -0.731970         4  \n",
       "E    0.312170  0.565153  -0.147420         5  \n",
       "F    0.917459 -0.112272  -0.362180         6  \n",
       "G   -1.418556 -0.362499  -0.121906         7  \n",
       "H    0.620601 -1.045133  -0.798009         8  \n",
       "I    0.393341  0.217265  -1.994394         9  \n",
       "J    0.089588  0.826999  -1.954512        10  \n",
       "new  8.000000  9.000000  10.000000        11  "
      ],
      "text/html": "<div>\n<style scoped>\n    .dataframe tbody tr th:only-of-type {\n        vertical-align: middle;\n    }\n\n    .dataframe tbody tr th {\n        vertical-align: top;\n    }\n\n    .dataframe thead th {\n        text-align: right;\n    }\n</style>\n<table border=\"1\" class=\"dataframe\">\n  <thead>\n    <tr style=\"text-align: right;\">\n      <th></th>\n      <th>K</th>\n      <th>L</th>\n      <th>M</th>\n      <th>N</th>\n      <th>O</th>\n      <th>P</th>\n      <th>Q</th>\n      <th>R</th>\n      <th>S</th>\n      <th>T</th>\n      <th>tambahan</th>\n    </tr>\n  </thead>\n  <tbody>\n    <tr>\n      <th>A</th>\n      <td>1.331587</td>\n      <td>0.715279</td>\n      <td>-1.545400</td>\n      <td>-0.008384</td>\n      <td>0.621336</td>\n      <td>-0.720086</td>\n      <td>0.265512</td>\n      <td>0.108549</td>\n      <td>0.004291</td>\n      <td>-0.174600</td>\n      <td>1</td>\n    </tr>\n    <tr>\n      <th>B</th>\n      <td>0.433026</td>\n      <td>1.203037</td>\n      <td>-0.965066</td>\n      <td>1.028274</td>\n      <td>0.228630</td>\n      <td>0.445138</td>\n      <td>-1.136602</td>\n      <td>0.135137</td>\n      <td>1.484537</td>\n      <td>-1.079805</td>\n      <td>2</td>\n    </tr>\n    <tr>\n      <th>C</th>\n      <td>-1.977728</td>\n      <td>-1.743372</td>\n      <td>0.266070</td>\n      <td>2.384967</td>\n      <td>1.123691</td>\n      <td>1.672622</td>\n      <td>0.099149</td>\n      <td>1.397996</td>\n      <td>-0.271248</td>\n      <td>0.613204</td>\n      <td>3</td>\n    </tr>\n    <tr>\n      <th>D</th>\n      <td>-0.267317</td>\n      <td>-0.549309</td>\n      <td>0.132708</td>\n      <td>-0.476142</td>\n      <td>1.308473</td>\n      <td>0.195013</td>\n      <td>0.400210</td>\n      <td>-0.337632</td>\n      <td>1.256472</td>\n      <td>-0.731970</td>\n      <td>4</td>\n    </tr>\n    <tr>\n      <th>E</th>\n      <td>0.660232</td>\n      <td>-0.350872</td>\n      <td>-0.939433</td>\n      <td>-0.489337</td>\n      <td>-0.804591</td>\n      <td>-0.212698</td>\n      <td>-0.339140</td>\n      <td>0.312170</td>\n      <td>0.565153</td>\n      <td>-0.147420</td>\n      <td>5</td>\n    </tr>\n    <tr>\n      <th>F</th>\n      <td>-0.025905</td>\n      <td>0.289094</td>\n      <td>-0.539879</td>\n      <td>0.708160</td>\n      <td>0.842225</td>\n      <td>0.203581</td>\n      <td>2.394704</td>\n      <td>0.917459</td>\n      <td>-0.112272</td>\n      <td>-0.362180</td>\n      <td>6</td>\n    </tr>\n    <tr>\n      <th>G</th>\n      <td>-0.232182</td>\n      <td>-0.501729</td>\n      <td>1.128785</td>\n      <td>-0.697810</td>\n      <td>-0.081122</td>\n      <td>-0.529296</td>\n      <td>1.046183</td>\n      <td>-1.418556</td>\n      <td>-0.362499</td>\n      <td>-0.121906</td>\n      <td>7</td>\n    </tr>\n    <tr>\n      <th>H</th>\n      <td>0.319356</td>\n      <td>0.460903</td>\n      <td>-0.215790</td>\n      <td>0.989072</td>\n      <td>0.314754</td>\n      <td>2.467651</td>\n      <td>-1.508321</td>\n      <td>0.620601</td>\n      <td>-1.045133</td>\n      <td>-0.798009</td>\n      <td>8</td>\n    </tr>\n    <tr>\n      <th>I</th>\n      <td>1.985085</td>\n      <td>1.744814</td>\n      <td>-1.856185</td>\n      <td>-0.222774</td>\n      <td>-0.065848</td>\n      <td>-2.131712</td>\n      <td>-0.048831</td>\n      <td>0.393341</td>\n      <td>0.217265</td>\n      <td>-1.994394</td>\n      <td>9</td>\n    </tr>\n    <tr>\n      <th>J</th>\n      <td>1.107708</td>\n      <td>0.244544</td>\n      <td>-0.061912</td>\n      <td>-0.753893</td>\n      <td>0.711959</td>\n      <td>0.918269</td>\n      <td>-0.482093</td>\n      <td>0.089588</td>\n      <td>0.826999</td>\n      <td>-1.954512</td>\n      <td>10</td>\n    </tr>\n    <tr>\n      <th>new</th>\n      <td>1.000000</td>\n      <td>2.000000</td>\n      <td>3.000000</td>\n      <td>4.000000</td>\n      <td>5.000000</td>\n      <td>6.000000</td>\n      <td>7.000000</td>\n      <td>8.000000</td>\n      <td>9.000000</td>\n      <td>10.000000</td>\n      <td>11</td>\n    </tr>\n  </tbody>\n</table>\n</div>"
     },
     "metadata": {},
     "execution_count": 100
    }
   ],
   "source": [
    "df.drop('new',axis=1)"
   ]
  },
  {
   "cell_type": "code",
   "execution_count": 101,
   "metadata": {},
   "outputs": [
    {
     "output_type": "execute_result",
     "data": {
      "text/plain": [
       "            K         L         M         N         O         P         Q  \\\n",
       "A    1.331587  0.715279 -1.545400 -0.008384  0.621336 -0.720086  0.265512   \n",
       "B    0.433026  1.203037 -0.965066  1.028274  0.228630  0.445138 -1.136602   \n",
       "C   -1.977728 -1.743372  0.266070  2.384967  1.123691  1.672622  0.099149   \n",
       "D   -0.267317 -0.549309  0.132708 -0.476142  1.308473  0.195013  0.400210   \n",
       "E    0.660232 -0.350872 -0.939433 -0.489337 -0.804591 -0.212698 -0.339140   \n",
       "F   -0.025905  0.289094 -0.539879  0.708160  0.842225  0.203581  2.394704   \n",
       "G   -0.232182 -0.501729  1.128785 -0.697810 -0.081122 -0.529296  1.046183   \n",
       "H    0.319356  0.460903 -0.215790  0.989072  0.314754  2.467651 -1.508321   \n",
       "I    1.985085  1.744814 -1.856185 -0.222774 -0.065848 -2.131712 -0.048831   \n",
       "J    1.107708  0.244544 -0.061912 -0.753893  0.711959  0.918269 -0.482093   \n",
       "new  1.000000  2.000000  3.000000  4.000000  5.000000  6.000000  7.000000   \n",
       "\n",
       "            R         S          T  tambahan        new  \n",
       "A    0.108549  0.004291  -0.174600         1   2.331587  \n",
       "B    0.135137  1.484537  -1.079805         2   2.433026  \n",
       "C    1.397996 -0.271248   0.613204         3   1.022272  \n",
       "D   -0.337632  1.256472  -0.731970         4   3.732683  \n",
       "E    0.312170  0.565153  -0.147420         5   5.660232  \n",
       "F    0.917459 -0.112272  -0.362180         6   5.974095  \n",
       "G   -1.418556 -0.362499  -0.121906         7   6.767818  \n",
       "H    0.620601 -1.045133  -0.798009         8   8.319356  \n",
       "I    0.393341  0.217265  -1.994394         9  10.985085  \n",
       "J    0.089588  0.826999  -1.954512        10  11.107708  \n",
       "new  8.000000  9.000000  10.000000        11  12.000000  "
      ],
      "text/html": "<div>\n<style scoped>\n    .dataframe tbody tr th:only-of-type {\n        vertical-align: middle;\n    }\n\n    .dataframe tbody tr th {\n        vertical-align: top;\n    }\n\n    .dataframe thead th {\n        text-align: right;\n    }\n</style>\n<table border=\"1\" class=\"dataframe\">\n  <thead>\n    <tr style=\"text-align: right;\">\n      <th></th>\n      <th>K</th>\n      <th>L</th>\n      <th>M</th>\n      <th>N</th>\n      <th>O</th>\n      <th>P</th>\n      <th>Q</th>\n      <th>R</th>\n      <th>S</th>\n      <th>T</th>\n      <th>tambahan</th>\n      <th>new</th>\n    </tr>\n  </thead>\n  <tbody>\n    <tr>\n      <th>A</th>\n      <td>1.331587</td>\n      <td>0.715279</td>\n      <td>-1.545400</td>\n      <td>-0.008384</td>\n      <td>0.621336</td>\n      <td>-0.720086</td>\n      <td>0.265512</td>\n      <td>0.108549</td>\n      <td>0.004291</td>\n      <td>-0.174600</td>\n      <td>1</td>\n      <td>2.331587</td>\n    </tr>\n    <tr>\n      <th>B</th>\n      <td>0.433026</td>\n      <td>1.203037</td>\n      <td>-0.965066</td>\n      <td>1.028274</td>\n      <td>0.228630</td>\n      <td>0.445138</td>\n      <td>-1.136602</td>\n      <td>0.135137</td>\n      <td>1.484537</td>\n      <td>-1.079805</td>\n      <td>2</td>\n      <td>2.433026</td>\n    </tr>\n    <tr>\n      <th>C</th>\n      <td>-1.977728</td>\n      <td>-1.743372</td>\n      <td>0.266070</td>\n      <td>2.384967</td>\n      <td>1.123691</td>\n      <td>1.672622</td>\n      <td>0.099149</td>\n      <td>1.397996</td>\n      <td>-0.271248</td>\n      <td>0.613204</td>\n      <td>3</td>\n      <td>1.022272</td>\n    </tr>\n    <tr>\n      <th>D</th>\n      <td>-0.267317</td>\n      <td>-0.549309</td>\n      <td>0.132708</td>\n      <td>-0.476142</td>\n      <td>1.308473</td>\n      <td>0.195013</td>\n      <td>0.400210</td>\n      <td>-0.337632</td>\n      <td>1.256472</td>\n      <td>-0.731970</td>\n      <td>4</td>\n      <td>3.732683</td>\n    </tr>\n    <tr>\n      <th>E</th>\n      <td>0.660232</td>\n      <td>-0.350872</td>\n      <td>-0.939433</td>\n      <td>-0.489337</td>\n      <td>-0.804591</td>\n      <td>-0.212698</td>\n      <td>-0.339140</td>\n      <td>0.312170</td>\n      <td>0.565153</td>\n      <td>-0.147420</td>\n      <td>5</td>\n      <td>5.660232</td>\n    </tr>\n    <tr>\n      <th>F</th>\n      <td>-0.025905</td>\n      <td>0.289094</td>\n      <td>-0.539879</td>\n      <td>0.708160</td>\n      <td>0.842225</td>\n      <td>0.203581</td>\n      <td>2.394704</td>\n      <td>0.917459</td>\n      <td>-0.112272</td>\n      <td>-0.362180</td>\n      <td>6</td>\n      <td>5.974095</td>\n    </tr>\n    <tr>\n      <th>G</th>\n      <td>-0.232182</td>\n      <td>-0.501729</td>\n      <td>1.128785</td>\n      <td>-0.697810</td>\n      <td>-0.081122</td>\n      <td>-0.529296</td>\n      <td>1.046183</td>\n      <td>-1.418556</td>\n      <td>-0.362499</td>\n      <td>-0.121906</td>\n      <td>7</td>\n      <td>6.767818</td>\n    </tr>\n    <tr>\n      <th>H</th>\n      <td>0.319356</td>\n      <td>0.460903</td>\n      <td>-0.215790</td>\n      <td>0.989072</td>\n      <td>0.314754</td>\n      <td>2.467651</td>\n      <td>-1.508321</td>\n      <td>0.620601</td>\n      <td>-1.045133</td>\n      <td>-0.798009</td>\n      <td>8</td>\n      <td>8.319356</td>\n    </tr>\n    <tr>\n      <th>I</th>\n      <td>1.985085</td>\n      <td>1.744814</td>\n      <td>-1.856185</td>\n      <td>-0.222774</td>\n      <td>-0.065848</td>\n      <td>-2.131712</td>\n      <td>-0.048831</td>\n      <td>0.393341</td>\n      <td>0.217265</td>\n      <td>-1.994394</td>\n      <td>9</td>\n      <td>10.985085</td>\n    </tr>\n    <tr>\n      <th>J</th>\n      <td>1.107708</td>\n      <td>0.244544</td>\n      <td>-0.061912</td>\n      <td>-0.753893</td>\n      <td>0.711959</td>\n      <td>0.918269</td>\n      <td>-0.482093</td>\n      <td>0.089588</td>\n      <td>0.826999</td>\n      <td>-1.954512</td>\n      <td>10</td>\n      <td>11.107708</td>\n    </tr>\n    <tr>\n      <th>new</th>\n      <td>1.000000</td>\n      <td>2.000000</td>\n      <td>3.000000</td>\n      <td>4.000000</td>\n      <td>5.000000</td>\n      <td>6.000000</td>\n      <td>7.000000</td>\n      <td>8.000000</td>\n      <td>9.000000</td>\n      <td>10.000000</td>\n      <td>11</td>\n      <td>12.000000</td>\n    </tr>\n  </tbody>\n</table>\n</div>"
     },
     "metadata": {},
     "execution_count": 101
    }
   ],
   "source": [
    "df"
   ]
  },
  {
   "cell_type": "code",
   "execution_count": 103,
   "metadata": {},
   "outputs": [
    {
     "output_type": "execute_result",
     "data": {
      "text/plain": [
       "            K         L         M         N         O         P         Q  \\\n",
       "A    1.331587  0.715279 -1.545400 -0.008384  0.621336 -0.720086  0.265512   \n",
       "B    0.433026  1.203037 -0.965066  1.028274  0.228630  0.445138 -1.136602   \n",
       "C   -1.977728 -1.743372  0.266070  2.384967  1.123691  1.672622  0.099149   \n",
       "D   -0.267317 -0.549309  0.132708 -0.476142  1.308473  0.195013  0.400210   \n",
       "E    0.660232 -0.350872 -0.939433 -0.489337 -0.804591 -0.212698 -0.339140   \n",
       "F   -0.025905  0.289094 -0.539879  0.708160  0.842225  0.203581  2.394704   \n",
       "G   -0.232182 -0.501729  1.128785 -0.697810 -0.081122 -0.529296  1.046183   \n",
       "H    0.319356  0.460903 -0.215790  0.989072  0.314754  2.467651 -1.508321   \n",
       "I    1.985085  1.744814 -1.856185 -0.222774 -0.065848 -2.131712 -0.048831   \n",
       "J    1.107708  0.244544 -0.061912 -0.753893  0.711959  0.918269 -0.482093   \n",
       "new  1.000000  2.000000  3.000000  4.000000  5.000000  6.000000  7.000000   \n",
       "\n",
       "            R         S          T        new  \n",
       "A    0.108549  0.004291  -0.174600   2.331587  \n",
       "B    0.135137  1.484537  -1.079805   2.433026  \n",
       "C    1.397996 -0.271248   0.613204   1.022272  \n",
       "D   -0.337632  1.256472  -0.731970   3.732683  \n",
       "E    0.312170  0.565153  -0.147420   5.660232  \n",
       "F    0.917459 -0.112272  -0.362180   5.974095  \n",
       "G   -1.418556 -0.362499  -0.121906   6.767818  \n",
       "H    0.620601 -1.045133  -0.798009   8.319356  \n",
       "I    0.393341  0.217265  -1.994394  10.985085  \n",
       "J    0.089588  0.826999  -1.954512  11.107708  \n",
       "new  8.000000  9.000000  10.000000  12.000000  "
      ],
      "text/html": "<div>\n<style scoped>\n    .dataframe tbody tr th:only-of-type {\n        vertical-align: middle;\n    }\n\n    .dataframe tbody tr th {\n        vertical-align: top;\n    }\n\n    .dataframe thead th {\n        text-align: right;\n    }\n</style>\n<table border=\"1\" class=\"dataframe\">\n  <thead>\n    <tr style=\"text-align: right;\">\n      <th></th>\n      <th>K</th>\n      <th>L</th>\n      <th>M</th>\n      <th>N</th>\n      <th>O</th>\n      <th>P</th>\n      <th>Q</th>\n      <th>R</th>\n      <th>S</th>\n      <th>T</th>\n      <th>new</th>\n    </tr>\n  </thead>\n  <tbody>\n    <tr>\n      <th>A</th>\n      <td>1.331587</td>\n      <td>0.715279</td>\n      <td>-1.545400</td>\n      <td>-0.008384</td>\n      <td>0.621336</td>\n      <td>-0.720086</td>\n      <td>0.265512</td>\n      <td>0.108549</td>\n      <td>0.004291</td>\n      <td>-0.174600</td>\n      <td>2.331587</td>\n    </tr>\n    <tr>\n      <th>B</th>\n      <td>0.433026</td>\n      <td>1.203037</td>\n      <td>-0.965066</td>\n      <td>1.028274</td>\n      <td>0.228630</td>\n      <td>0.445138</td>\n      <td>-1.136602</td>\n      <td>0.135137</td>\n      <td>1.484537</td>\n      <td>-1.079805</td>\n      <td>2.433026</td>\n    </tr>\n    <tr>\n      <th>C</th>\n      <td>-1.977728</td>\n      <td>-1.743372</td>\n      <td>0.266070</td>\n      <td>2.384967</td>\n      <td>1.123691</td>\n      <td>1.672622</td>\n      <td>0.099149</td>\n      <td>1.397996</td>\n      <td>-0.271248</td>\n      <td>0.613204</td>\n      <td>1.022272</td>\n    </tr>\n    <tr>\n      <th>D</th>\n      <td>-0.267317</td>\n      <td>-0.549309</td>\n      <td>0.132708</td>\n      <td>-0.476142</td>\n      <td>1.308473</td>\n      <td>0.195013</td>\n      <td>0.400210</td>\n      <td>-0.337632</td>\n      <td>1.256472</td>\n      <td>-0.731970</td>\n      <td>3.732683</td>\n    </tr>\n    <tr>\n      <th>E</th>\n      <td>0.660232</td>\n      <td>-0.350872</td>\n      <td>-0.939433</td>\n      <td>-0.489337</td>\n      <td>-0.804591</td>\n      <td>-0.212698</td>\n      <td>-0.339140</td>\n      <td>0.312170</td>\n      <td>0.565153</td>\n      <td>-0.147420</td>\n      <td>5.660232</td>\n    </tr>\n    <tr>\n      <th>F</th>\n      <td>-0.025905</td>\n      <td>0.289094</td>\n      <td>-0.539879</td>\n      <td>0.708160</td>\n      <td>0.842225</td>\n      <td>0.203581</td>\n      <td>2.394704</td>\n      <td>0.917459</td>\n      <td>-0.112272</td>\n      <td>-0.362180</td>\n      <td>5.974095</td>\n    </tr>\n    <tr>\n      <th>G</th>\n      <td>-0.232182</td>\n      <td>-0.501729</td>\n      <td>1.128785</td>\n      <td>-0.697810</td>\n      <td>-0.081122</td>\n      <td>-0.529296</td>\n      <td>1.046183</td>\n      <td>-1.418556</td>\n      <td>-0.362499</td>\n      <td>-0.121906</td>\n      <td>6.767818</td>\n    </tr>\n    <tr>\n      <th>H</th>\n      <td>0.319356</td>\n      <td>0.460903</td>\n      <td>-0.215790</td>\n      <td>0.989072</td>\n      <td>0.314754</td>\n      <td>2.467651</td>\n      <td>-1.508321</td>\n      <td>0.620601</td>\n      <td>-1.045133</td>\n      <td>-0.798009</td>\n      <td>8.319356</td>\n    </tr>\n    <tr>\n      <th>I</th>\n      <td>1.985085</td>\n      <td>1.744814</td>\n      <td>-1.856185</td>\n      <td>-0.222774</td>\n      <td>-0.065848</td>\n      <td>-2.131712</td>\n      <td>-0.048831</td>\n      <td>0.393341</td>\n      <td>0.217265</td>\n      <td>-1.994394</td>\n      <td>10.985085</td>\n    </tr>\n    <tr>\n      <th>J</th>\n      <td>1.107708</td>\n      <td>0.244544</td>\n      <td>-0.061912</td>\n      <td>-0.753893</td>\n      <td>0.711959</td>\n      <td>0.918269</td>\n      <td>-0.482093</td>\n      <td>0.089588</td>\n      <td>0.826999</td>\n      <td>-1.954512</td>\n      <td>11.107708</td>\n    </tr>\n    <tr>\n      <th>new</th>\n      <td>1.000000</td>\n      <td>2.000000</td>\n      <td>3.000000</td>\n      <td>4.000000</td>\n      <td>5.000000</td>\n      <td>6.000000</td>\n      <td>7.000000</td>\n      <td>8.000000</td>\n      <td>9.000000</td>\n      <td>10.000000</td>\n      <td>12.000000</td>\n    </tr>\n  </tbody>\n</table>\n</div>"
     },
     "metadata": {},
     "execution_count": 103
    }
   ],
   "source": [
    "df.drop('tambahan',axis = 1)"
   ]
  },
  {
   "cell_type": "code",
   "execution_count": 105,
   "metadata": {},
   "outputs": [
    {
     "output_type": "execute_result",
     "data": {
      "text/plain": [
       "            K         L         M         N         O         P         Q  \\\n",
       "A    1.331587  0.715279 -1.545400 -0.008384  0.621336 -0.720086  0.265512   \n",
       "B    0.433026  1.203037 -0.965066  1.028274  0.228630  0.445138 -1.136602   \n",
       "C   -1.977728 -1.743372  0.266070  2.384967  1.123691  1.672622  0.099149   \n",
       "D   -0.267317 -0.549309  0.132708 -0.476142  1.308473  0.195013  0.400210   \n",
       "E    0.660232 -0.350872 -0.939433 -0.489337 -0.804591 -0.212698 -0.339140   \n",
       "F   -0.025905  0.289094 -0.539879  0.708160  0.842225  0.203581  2.394704   \n",
       "G   -0.232182 -0.501729  1.128785 -0.697810 -0.081122 -0.529296  1.046183   \n",
       "H    0.319356  0.460903 -0.215790  0.989072  0.314754  2.467651 -1.508321   \n",
       "I    1.985085  1.744814 -1.856185 -0.222774 -0.065848 -2.131712 -0.048831   \n",
       "J    1.107708  0.244544 -0.061912 -0.753893  0.711959  0.918269 -0.482093   \n",
       "new  1.000000  2.000000  3.000000  4.000000  5.000000  6.000000  7.000000   \n",
       "\n",
       "            R         S          T  tambahan        new  \n",
       "A    0.108549  0.004291  -0.174600         1   2.331587  \n",
       "B    0.135137  1.484537  -1.079805         2   2.433026  \n",
       "C    1.397996 -0.271248   0.613204         3   1.022272  \n",
       "D   -0.337632  1.256472  -0.731970         4   3.732683  \n",
       "E    0.312170  0.565153  -0.147420         5   5.660232  \n",
       "F    0.917459 -0.112272  -0.362180         6   5.974095  \n",
       "G   -1.418556 -0.362499  -0.121906         7   6.767818  \n",
       "H    0.620601 -1.045133  -0.798009         8   8.319356  \n",
       "I    0.393341  0.217265  -1.994394         9  10.985085  \n",
       "J    0.089588  0.826999  -1.954512        10  11.107708  \n",
       "new  8.000000  9.000000  10.000000        11  12.000000  "
      ],
      "text/html": "<div>\n<style scoped>\n    .dataframe tbody tr th:only-of-type {\n        vertical-align: middle;\n    }\n\n    .dataframe tbody tr th {\n        vertical-align: top;\n    }\n\n    .dataframe thead th {\n        text-align: right;\n    }\n</style>\n<table border=\"1\" class=\"dataframe\">\n  <thead>\n    <tr style=\"text-align: right;\">\n      <th></th>\n      <th>K</th>\n      <th>L</th>\n      <th>M</th>\n      <th>N</th>\n      <th>O</th>\n      <th>P</th>\n      <th>Q</th>\n      <th>R</th>\n      <th>S</th>\n      <th>T</th>\n      <th>tambahan</th>\n      <th>new</th>\n    </tr>\n  </thead>\n  <tbody>\n    <tr>\n      <th>A</th>\n      <td>1.331587</td>\n      <td>0.715279</td>\n      <td>-1.545400</td>\n      <td>-0.008384</td>\n      <td>0.621336</td>\n      <td>-0.720086</td>\n      <td>0.265512</td>\n      <td>0.108549</td>\n      <td>0.004291</td>\n      <td>-0.174600</td>\n      <td>1</td>\n      <td>2.331587</td>\n    </tr>\n    <tr>\n      <th>B</th>\n      <td>0.433026</td>\n      <td>1.203037</td>\n      <td>-0.965066</td>\n      <td>1.028274</td>\n      <td>0.228630</td>\n      <td>0.445138</td>\n      <td>-1.136602</td>\n      <td>0.135137</td>\n      <td>1.484537</td>\n      <td>-1.079805</td>\n      <td>2</td>\n      <td>2.433026</td>\n    </tr>\n    <tr>\n      <th>C</th>\n      <td>-1.977728</td>\n      <td>-1.743372</td>\n      <td>0.266070</td>\n      <td>2.384967</td>\n      <td>1.123691</td>\n      <td>1.672622</td>\n      <td>0.099149</td>\n      <td>1.397996</td>\n      <td>-0.271248</td>\n      <td>0.613204</td>\n      <td>3</td>\n      <td>1.022272</td>\n    </tr>\n    <tr>\n      <th>D</th>\n      <td>-0.267317</td>\n      <td>-0.549309</td>\n      <td>0.132708</td>\n      <td>-0.476142</td>\n      <td>1.308473</td>\n      <td>0.195013</td>\n      <td>0.400210</td>\n      <td>-0.337632</td>\n      <td>1.256472</td>\n      <td>-0.731970</td>\n      <td>4</td>\n      <td>3.732683</td>\n    </tr>\n    <tr>\n      <th>E</th>\n      <td>0.660232</td>\n      <td>-0.350872</td>\n      <td>-0.939433</td>\n      <td>-0.489337</td>\n      <td>-0.804591</td>\n      <td>-0.212698</td>\n      <td>-0.339140</td>\n      <td>0.312170</td>\n      <td>0.565153</td>\n      <td>-0.147420</td>\n      <td>5</td>\n      <td>5.660232</td>\n    </tr>\n    <tr>\n      <th>F</th>\n      <td>-0.025905</td>\n      <td>0.289094</td>\n      <td>-0.539879</td>\n      <td>0.708160</td>\n      <td>0.842225</td>\n      <td>0.203581</td>\n      <td>2.394704</td>\n      <td>0.917459</td>\n      <td>-0.112272</td>\n      <td>-0.362180</td>\n      <td>6</td>\n      <td>5.974095</td>\n    </tr>\n    <tr>\n      <th>G</th>\n      <td>-0.232182</td>\n      <td>-0.501729</td>\n      <td>1.128785</td>\n      <td>-0.697810</td>\n      <td>-0.081122</td>\n      <td>-0.529296</td>\n      <td>1.046183</td>\n      <td>-1.418556</td>\n      <td>-0.362499</td>\n      <td>-0.121906</td>\n      <td>7</td>\n      <td>6.767818</td>\n    </tr>\n    <tr>\n      <th>H</th>\n      <td>0.319356</td>\n      <td>0.460903</td>\n      <td>-0.215790</td>\n      <td>0.989072</td>\n      <td>0.314754</td>\n      <td>2.467651</td>\n      <td>-1.508321</td>\n      <td>0.620601</td>\n      <td>-1.045133</td>\n      <td>-0.798009</td>\n      <td>8</td>\n      <td>8.319356</td>\n    </tr>\n    <tr>\n      <th>I</th>\n      <td>1.985085</td>\n      <td>1.744814</td>\n      <td>-1.856185</td>\n      <td>-0.222774</td>\n      <td>-0.065848</td>\n      <td>-2.131712</td>\n      <td>-0.048831</td>\n      <td>0.393341</td>\n      <td>0.217265</td>\n      <td>-1.994394</td>\n      <td>9</td>\n      <td>10.985085</td>\n    </tr>\n    <tr>\n      <th>J</th>\n      <td>1.107708</td>\n      <td>0.244544</td>\n      <td>-0.061912</td>\n      <td>-0.753893</td>\n      <td>0.711959</td>\n      <td>0.918269</td>\n      <td>-0.482093</td>\n      <td>0.089588</td>\n      <td>0.826999</td>\n      <td>-1.954512</td>\n      <td>10</td>\n      <td>11.107708</td>\n    </tr>\n    <tr>\n      <th>new</th>\n      <td>1.000000</td>\n      <td>2.000000</td>\n      <td>3.000000</td>\n      <td>4.000000</td>\n      <td>5.000000</td>\n      <td>6.000000</td>\n      <td>7.000000</td>\n      <td>8.000000</td>\n      <td>9.000000</td>\n      <td>10.000000</td>\n      <td>11</td>\n      <td>12.000000</td>\n    </tr>\n  </tbody>\n</table>\n</div>"
     },
     "metadata": {},
     "execution_count": 105
    }
   ],
   "source": [
    "df.drop('new')\n",
    "df"
   ]
  },
  {
   "cell_type": "code",
   "execution_count": 106,
   "metadata": {},
   "outputs": [
    {
     "output_type": "execute_result",
     "data": {
      "text/plain": [
       "            K         L         M         N         O         P         Q  \\\n",
       "A    1.331587  0.715279 -1.545400 -0.008384  0.621336 -0.720086  0.265512   \n",
       "B    0.433026  1.203037 -0.965066  1.028274  0.228630  0.445138 -1.136602   \n",
       "C   -1.977728 -1.743372  0.266070  2.384967  1.123691  1.672622  0.099149   \n",
       "D   -0.267317 -0.549309  0.132708 -0.476142  1.308473  0.195013  0.400210   \n",
       "E    0.660232 -0.350872 -0.939433 -0.489337 -0.804591 -0.212698 -0.339140   \n",
       "F   -0.025905  0.289094 -0.539879  0.708160  0.842225  0.203581  2.394704   \n",
       "G   -0.232182 -0.501729  1.128785 -0.697810 -0.081122 -0.529296  1.046183   \n",
       "H    0.319356  0.460903 -0.215790  0.989072  0.314754  2.467651 -1.508321   \n",
       "I    1.985085  1.744814 -1.856185 -0.222774 -0.065848 -2.131712 -0.048831   \n",
       "J    1.107708  0.244544 -0.061912 -0.753893  0.711959  0.918269 -0.482093   \n",
       "new  1.000000  2.000000  3.000000  4.000000  5.000000  6.000000  7.000000   \n",
       "\n",
       "            R         S          T        new  \n",
       "A    0.108549  0.004291  -0.174600   2.331587  \n",
       "B    0.135137  1.484537  -1.079805   2.433026  \n",
       "C    1.397996 -0.271248   0.613204   1.022272  \n",
       "D   -0.337632  1.256472  -0.731970   3.732683  \n",
       "E    0.312170  0.565153  -0.147420   5.660232  \n",
       "F    0.917459 -0.112272  -0.362180   5.974095  \n",
       "G   -1.418556 -0.362499  -0.121906   6.767818  \n",
       "H    0.620601 -1.045133  -0.798009   8.319356  \n",
       "I    0.393341  0.217265  -1.994394  10.985085  \n",
       "J    0.089588  0.826999  -1.954512  11.107708  \n",
       "new  8.000000  9.000000  10.000000  12.000000  "
      ],
      "text/html": "<div>\n<style scoped>\n    .dataframe tbody tr th:only-of-type {\n        vertical-align: middle;\n    }\n\n    .dataframe tbody tr th {\n        vertical-align: top;\n    }\n\n    .dataframe thead th {\n        text-align: right;\n    }\n</style>\n<table border=\"1\" class=\"dataframe\">\n  <thead>\n    <tr style=\"text-align: right;\">\n      <th></th>\n      <th>K</th>\n      <th>L</th>\n      <th>M</th>\n      <th>N</th>\n      <th>O</th>\n      <th>P</th>\n      <th>Q</th>\n      <th>R</th>\n      <th>S</th>\n      <th>T</th>\n      <th>new</th>\n    </tr>\n  </thead>\n  <tbody>\n    <tr>\n      <th>A</th>\n      <td>1.331587</td>\n      <td>0.715279</td>\n      <td>-1.545400</td>\n      <td>-0.008384</td>\n      <td>0.621336</td>\n      <td>-0.720086</td>\n      <td>0.265512</td>\n      <td>0.108549</td>\n      <td>0.004291</td>\n      <td>-0.174600</td>\n      <td>2.331587</td>\n    </tr>\n    <tr>\n      <th>B</th>\n      <td>0.433026</td>\n      <td>1.203037</td>\n      <td>-0.965066</td>\n      <td>1.028274</td>\n      <td>0.228630</td>\n      <td>0.445138</td>\n      <td>-1.136602</td>\n      <td>0.135137</td>\n      <td>1.484537</td>\n      <td>-1.079805</td>\n      <td>2.433026</td>\n    </tr>\n    <tr>\n      <th>C</th>\n      <td>-1.977728</td>\n      <td>-1.743372</td>\n      <td>0.266070</td>\n      <td>2.384967</td>\n      <td>1.123691</td>\n      <td>1.672622</td>\n      <td>0.099149</td>\n      <td>1.397996</td>\n      <td>-0.271248</td>\n      <td>0.613204</td>\n      <td>1.022272</td>\n    </tr>\n    <tr>\n      <th>D</th>\n      <td>-0.267317</td>\n      <td>-0.549309</td>\n      <td>0.132708</td>\n      <td>-0.476142</td>\n      <td>1.308473</td>\n      <td>0.195013</td>\n      <td>0.400210</td>\n      <td>-0.337632</td>\n      <td>1.256472</td>\n      <td>-0.731970</td>\n      <td>3.732683</td>\n    </tr>\n    <tr>\n      <th>E</th>\n      <td>0.660232</td>\n      <td>-0.350872</td>\n      <td>-0.939433</td>\n      <td>-0.489337</td>\n      <td>-0.804591</td>\n      <td>-0.212698</td>\n      <td>-0.339140</td>\n      <td>0.312170</td>\n      <td>0.565153</td>\n      <td>-0.147420</td>\n      <td>5.660232</td>\n    </tr>\n    <tr>\n      <th>F</th>\n      <td>-0.025905</td>\n      <td>0.289094</td>\n      <td>-0.539879</td>\n      <td>0.708160</td>\n      <td>0.842225</td>\n      <td>0.203581</td>\n      <td>2.394704</td>\n      <td>0.917459</td>\n      <td>-0.112272</td>\n      <td>-0.362180</td>\n      <td>5.974095</td>\n    </tr>\n    <tr>\n      <th>G</th>\n      <td>-0.232182</td>\n      <td>-0.501729</td>\n      <td>1.128785</td>\n      <td>-0.697810</td>\n      <td>-0.081122</td>\n      <td>-0.529296</td>\n      <td>1.046183</td>\n      <td>-1.418556</td>\n      <td>-0.362499</td>\n      <td>-0.121906</td>\n      <td>6.767818</td>\n    </tr>\n    <tr>\n      <th>H</th>\n      <td>0.319356</td>\n      <td>0.460903</td>\n      <td>-0.215790</td>\n      <td>0.989072</td>\n      <td>0.314754</td>\n      <td>2.467651</td>\n      <td>-1.508321</td>\n      <td>0.620601</td>\n      <td>-1.045133</td>\n      <td>-0.798009</td>\n      <td>8.319356</td>\n    </tr>\n    <tr>\n      <th>I</th>\n      <td>1.985085</td>\n      <td>1.744814</td>\n      <td>-1.856185</td>\n      <td>-0.222774</td>\n      <td>-0.065848</td>\n      <td>-2.131712</td>\n      <td>-0.048831</td>\n      <td>0.393341</td>\n      <td>0.217265</td>\n      <td>-1.994394</td>\n      <td>10.985085</td>\n    </tr>\n    <tr>\n      <th>J</th>\n      <td>1.107708</td>\n      <td>0.244544</td>\n      <td>-0.061912</td>\n      <td>-0.753893</td>\n      <td>0.711959</td>\n      <td>0.918269</td>\n      <td>-0.482093</td>\n      <td>0.089588</td>\n      <td>0.826999</td>\n      <td>-1.954512</td>\n      <td>11.107708</td>\n    </tr>\n    <tr>\n      <th>new</th>\n      <td>1.000000</td>\n      <td>2.000000</td>\n      <td>3.000000</td>\n      <td>4.000000</td>\n      <td>5.000000</td>\n      <td>6.000000</td>\n      <td>7.000000</td>\n      <td>8.000000</td>\n      <td>9.000000</td>\n      <td>10.000000</td>\n      <td>12.000000</td>\n    </tr>\n  </tbody>\n</table>\n</div>"
     },
     "metadata": {},
     "execution_count": 106
    }
   ],
   "source": [
    "df.drop('tambahan',axis=1)"
   ]
  },
  {
   "cell_type": "code",
   "execution_count": 107,
   "metadata": {},
   "outputs": [],
   "source": [
    "df.drop('new',axis=1,inplace=True)"
   ]
  },
  {
   "cell_type": "code",
   "execution_count": 132,
   "metadata": {},
   "outputs": [
    {
     "output_type": "execute_result",
     "data": {
      "text/plain": [
       "          K         L         M         N         O         P         Q  \\\n",
       "A  1.331587  0.715279 -1.545400 -0.008384  0.621336 -0.720086  0.265512   \n",
       "B  0.433026  1.203037 -0.965066  1.028274  0.228630  0.445138 -1.136602   \n",
       "C -1.977728 -1.743372  0.266070  2.384967  1.123691  1.672622  0.099149   \n",
       "E  0.660232 -0.350872 -0.939433 -0.489337 -0.804591 -0.212698 -0.339140   \n",
       "F -0.025905  0.289094 -0.539879  0.708160  0.842225  0.203581  2.394704   \n",
       "G -0.232182 -0.501729  1.128785 -0.697810 -0.081122 -0.529296  1.046183   \n",
       "H  0.319356  0.460903 -0.215790  0.989072  0.314754  2.467651 -1.508321   \n",
       "I  1.985085  1.744814 -1.856185 -0.222774 -0.065848 -2.131712 -0.048831   \n",
       "J  1.107708  0.244544 -0.061912 -0.753893  0.711959  0.918269 -0.482093   \n",
       "\n",
       "          R         S         T  \n",
       "A  0.108549  0.004291 -0.174600  \n",
       "B  0.135137  1.484537 -1.079805  \n",
       "C  1.397996 -0.271248  0.613204  \n",
       "E  0.312170  0.565153 -0.147420  \n",
       "F  0.917459 -0.112272 -0.362180  \n",
       "G -1.418556 -0.362499 -0.121906  \n",
       "H  0.620601 -1.045133 -0.798009  \n",
       "I  0.393341  0.217265 -1.994394  \n",
       "J  0.089588  0.826999 -1.954512  "
      ],
      "text/html": "<div>\n<style scoped>\n    .dataframe tbody tr th:only-of-type {\n        vertical-align: middle;\n    }\n\n    .dataframe tbody tr th {\n        vertical-align: top;\n    }\n\n    .dataframe thead th {\n        text-align: right;\n    }\n</style>\n<table border=\"1\" class=\"dataframe\">\n  <thead>\n    <tr style=\"text-align: right;\">\n      <th></th>\n      <th>K</th>\n      <th>L</th>\n      <th>M</th>\n      <th>N</th>\n      <th>O</th>\n      <th>P</th>\n      <th>Q</th>\n      <th>R</th>\n      <th>S</th>\n      <th>T</th>\n    </tr>\n  </thead>\n  <tbody>\n    <tr>\n      <th>A</th>\n      <td>1.331587</td>\n      <td>0.715279</td>\n      <td>-1.545400</td>\n      <td>-0.008384</td>\n      <td>0.621336</td>\n      <td>-0.720086</td>\n      <td>0.265512</td>\n      <td>0.108549</td>\n      <td>0.004291</td>\n      <td>-0.174600</td>\n    </tr>\n    <tr>\n      <th>B</th>\n      <td>0.433026</td>\n      <td>1.203037</td>\n      <td>-0.965066</td>\n      <td>1.028274</td>\n      <td>0.228630</td>\n      <td>0.445138</td>\n      <td>-1.136602</td>\n      <td>0.135137</td>\n      <td>1.484537</td>\n      <td>-1.079805</td>\n    </tr>\n    <tr>\n      <th>C</th>\n      <td>-1.977728</td>\n      <td>-1.743372</td>\n      <td>0.266070</td>\n      <td>2.384967</td>\n      <td>1.123691</td>\n      <td>1.672622</td>\n      <td>0.099149</td>\n      <td>1.397996</td>\n      <td>-0.271248</td>\n      <td>0.613204</td>\n    </tr>\n    <tr>\n      <th>E</th>\n      <td>0.660232</td>\n      <td>-0.350872</td>\n      <td>-0.939433</td>\n      <td>-0.489337</td>\n      <td>-0.804591</td>\n      <td>-0.212698</td>\n      <td>-0.339140</td>\n      <td>0.312170</td>\n      <td>0.565153</td>\n      <td>-0.147420</td>\n    </tr>\n    <tr>\n      <th>F</th>\n      <td>-0.025905</td>\n      <td>0.289094</td>\n      <td>-0.539879</td>\n      <td>0.708160</td>\n      <td>0.842225</td>\n      <td>0.203581</td>\n      <td>2.394704</td>\n      <td>0.917459</td>\n      <td>-0.112272</td>\n      <td>-0.362180</td>\n    </tr>\n    <tr>\n      <th>G</th>\n      <td>-0.232182</td>\n      <td>-0.501729</td>\n      <td>1.128785</td>\n      <td>-0.697810</td>\n      <td>-0.081122</td>\n      <td>-0.529296</td>\n      <td>1.046183</td>\n      <td>-1.418556</td>\n      <td>-0.362499</td>\n      <td>-0.121906</td>\n    </tr>\n    <tr>\n      <th>H</th>\n      <td>0.319356</td>\n      <td>0.460903</td>\n      <td>-0.215790</td>\n      <td>0.989072</td>\n      <td>0.314754</td>\n      <td>2.467651</td>\n      <td>-1.508321</td>\n      <td>0.620601</td>\n      <td>-1.045133</td>\n      <td>-0.798009</td>\n    </tr>\n    <tr>\n      <th>I</th>\n      <td>1.985085</td>\n      <td>1.744814</td>\n      <td>-1.856185</td>\n      <td>-0.222774</td>\n      <td>-0.065848</td>\n      <td>-2.131712</td>\n      <td>-0.048831</td>\n      <td>0.393341</td>\n      <td>0.217265</td>\n      <td>-1.994394</td>\n    </tr>\n    <tr>\n      <th>J</th>\n      <td>1.107708</td>\n      <td>0.244544</td>\n      <td>-0.061912</td>\n      <td>-0.753893</td>\n      <td>0.711959</td>\n      <td>0.918269</td>\n      <td>-0.482093</td>\n      <td>0.089588</td>\n      <td>0.826999</td>\n      <td>-1.954512</td>\n    </tr>\n  </tbody>\n</table>\n</div>"
     },
     "metadata": {},
     "execution_count": 132
    }
   ],
   "source": [
    "df"
   ]
  },
  {
   "cell_type": "code",
   "execution_count": 138,
   "metadata": {},
   "outputs": [
    {
     "output_type": "execute_result",
     "data": {
      "text/plain": [
       "          K         L         M         N         O         P         Q  \\\n",
       "A  1.331587  0.715279 -1.545400 -0.008384  0.621336 -0.720086  0.265512   \n",
       "B  0.433026  1.203037 -0.965066  1.028274  0.228630  0.445138 -1.136602   \n",
       "C -1.977728 -1.743372  0.266070  2.384967  1.123691  1.672622  0.099149   \n",
       "E  0.660232 -0.350872 -0.939433 -0.489337 -0.804591 -0.212698 -0.339140   \n",
       "F -0.025905  0.289094 -0.539879  0.708160  0.842225  0.203581  2.394704   \n",
       "G -0.232182 -0.501729  1.128785 -0.697810 -0.081122 -0.529296  1.046183   \n",
       "H  0.319356  0.460903 -0.215790  0.989072  0.314754  2.467651 -1.508321   \n",
       "I  1.985085  1.744814 -1.856185 -0.222774 -0.065848 -2.131712 -0.048831   \n",
       "\n",
       "          R         S         T  \n",
       "A  0.108549  0.004291 -0.174600  \n",
       "B  0.135137  1.484537 -1.079805  \n",
       "C  1.397996 -0.271248  0.613204  \n",
       "E  0.312170  0.565153 -0.147420  \n",
       "F  0.917459 -0.112272 -0.362180  \n",
       "G -1.418556 -0.362499 -0.121906  \n",
       "H  0.620601 -1.045133 -0.798009  \n",
       "I  0.393341  0.217265 -1.994394  "
      ],
      "text/html": "<div>\n<style scoped>\n    .dataframe tbody tr th:only-of-type {\n        vertical-align: middle;\n    }\n\n    .dataframe tbody tr th {\n        vertical-align: top;\n    }\n\n    .dataframe thead th {\n        text-align: right;\n    }\n</style>\n<table border=\"1\" class=\"dataframe\">\n  <thead>\n    <tr style=\"text-align: right;\">\n      <th></th>\n      <th>K</th>\n      <th>L</th>\n      <th>M</th>\n      <th>N</th>\n      <th>O</th>\n      <th>P</th>\n      <th>Q</th>\n      <th>R</th>\n      <th>S</th>\n      <th>T</th>\n    </tr>\n  </thead>\n  <tbody>\n    <tr>\n      <th>A</th>\n      <td>1.331587</td>\n      <td>0.715279</td>\n      <td>-1.545400</td>\n      <td>-0.008384</td>\n      <td>0.621336</td>\n      <td>-0.720086</td>\n      <td>0.265512</td>\n      <td>0.108549</td>\n      <td>0.004291</td>\n      <td>-0.174600</td>\n    </tr>\n    <tr>\n      <th>B</th>\n      <td>0.433026</td>\n      <td>1.203037</td>\n      <td>-0.965066</td>\n      <td>1.028274</td>\n      <td>0.228630</td>\n      <td>0.445138</td>\n      <td>-1.136602</td>\n      <td>0.135137</td>\n      <td>1.484537</td>\n      <td>-1.079805</td>\n    </tr>\n    <tr>\n      <th>C</th>\n      <td>-1.977728</td>\n      <td>-1.743372</td>\n      <td>0.266070</td>\n      <td>2.384967</td>\n      <td>1.123691</td>\n      <td>1.672622</td>\n      <td>0.099149</td>\n      <td>1.397996</td>\n      <td>-0.271248</td>\n      <td>0.613204</td>\n    </tr>\n    <tr>\n      <th>E</th>\n      <td>0.660232</td>\n      <td>-0.350872</td>\n      <td>-0.939433</td>\n      <td>-0.489337</td>\n      <td>-0.804591</td>\n      <td>-0.212698</td>\n      <td>-0.339140</td>\n      <td>0.312170</td>\n      <td>0.565153</td>\n      <td>-0.147420</td>\n    </tr>\n    <tr>\n      <th>F</th>\n      <td>-0.025905</td>\n      <td>0.289094</td>\n      <td>-0.539879</td>\n      <td>0.708160</td>\n      <td>0.842225</td>\n      <td>0.203581</td>\n      <td>2.394704</td>\n      <td>0.917459</td>\n      <td>-0.112272</td>\n      <td>-0.362180</td>\n    </tr>\n    <tr>\n      <th>G</th>\n      <td>-0.232182</td>\n      <td>-0.501729</td>\n      <td>1.128785</td>\n      <td>-0.697810</td>\n      <td>-0.081122</td>\n      <td>-0.529296</td>\n      <td>1.046183</td>\n      <td>-1.418556</td>\n      <td>-0.362499</td>\n      <td>-0.121906</td>\n    </tr>\n    <tr>\n      <th>H</th>\n      <td>0.319356</td>\n      <td>0.460903</td>\n      <td>-0.215790</td>\n      <td>0.989072</td>\n      <td>0.314754</td>\n      <td>2.467651</td>\n      <td>-1.508321</td>\n      <td>0.620601</td>\n      <td>-1.045133</td>\n      <td>-0.798009</td>\n    </tr>\n    <tr>\n      <th>I</th>\n      <td>1.985085</td>\n      <td>1.744814</td>\n      <td>-1.856185</td>\n      <td>-0.222774</td>\n      <td>-0.065848</td>\n      <td>-2.131712</td>\n      <td>-0.048831</td>\n      <td>0.393341</td>\n      <td>0.217265</td>\n      <td>-1.994394</td>\n    </tr>\n  </tbody>\n</table>\n</div>"
     },
     "metadata": {},
     "execution_count": 138
    }
   ],
   "source": [
    "df.drop('J',axis = 0,inplace=True)\n",
    "df"
   ]
  },
  {
   "cell_type": "code",
   "execution_count": 140,
   "metadata": {},
   "outputs": [
    {
     "output_type": "execute_result",
     "data": {
      "text/plain": [
       "          K         L         M         N         O         P         Q  \\\n",
       "A  1.331587  0.715279 -1.545400 -0.008384  0.621336 -0.720086  0.265512   \n",
       "B  0.433026  1.203037 -0.965066  1.028274  0.228630  0.445138 -1.136602   \n",
       "C -1.977728 -1.743372  0.266070  2.384967  1.123691  1.672622  0.099149   \n",
       "F -0.025905  0.289094 -0.539879  0.708160  0.842225  0.203581  2.394704   \n",
       "G -0.232182 -0.501729  1.128785 -0.697810 -0.081122 -0.529296  1.046183   \n",
       "H  0.319356  0.460903 -0.215790  0.989072  0.314754  2.467651 -1.508321   \n",
       "I  1.985085  1.744814 -1.856185 -0.222774 -0.065848 -2.131712 -0.048831   \n",
       "\n",
       "          R         S         T  \n",
       "A  0.108549  0.004291 -0.174600  \n",
       "B  0.135137  1.484537 -1.079805  \n",
       "C  1.397996 -0.271248  0.613204  \n",
       "F  0.917459 -0.112272 -0.362180  \n",
       "G -1.418556 -0.362499 -0.121906  \n",
       "H  0.620601 -1.045133 -0.798009  \n",
       "I  0.393341  0.217265 -1.994394  "
      ],
      "text/html": "<div>\n<style scoped>\n    .dataframe tbody tr th:only-of-type {\n        vertical-align: middle;\n    }\n\n    .dataframe tbody tr th {\n        vertical-align: top;\n    }\n\n    .dataframe thead th {\n        text-align: right;\n    }\n</style>\n<table border=\"1\" class=\"dataframe\">\n  <thead>\n    <tr style=\"text-align: right;\">\n      <th></th>\n      <th>K</th>\n      <th>L</th>\n      <th>M</th>\n      <th>N</th>\n      <th>O</th>\n      <th>P</th>\n      <th>Q</th>\n      <th>R</th>\n      <th>S</th>\n      <th>T</th>\n    </tr>\n  </thead>\n  <tbody>\n    <tr>\n      <th>A</th>\n      <td>1.331587</td>\n      <td>0.715279</td>\n      <td>-1.545400</td>\n      <td>-0.008384</td>\n      <td>0.621336</td>\n      <td>-0.720086</td>\n      <td>0.265512</td>\n      <td>0.108549</td>\n      <td>0.004291</td>\n      <td>-0.174600</td>\n    </tr>\n    <tr>\n      <th>B</th>\n      <td>0.433026</td>\n      <td>1.203037</td>\n      <td>-0.965066</td>\n      <td>1.028274</td>\n      <td>0.228630</td>\n      <td>0.445138</td>\n      <td>-1.136602</td>\n      <td>0.135137</td>\n      <td>1.484537</td>\n      <td>-1.079805</td>\n    </tr>\n    <tr>\n      <th>C</th>\n      <td>-1.977728</td>\n      <td>-1.743372</td>\n      <td>0.266070</td>\n      <td>2.384967</td>\n      <td>1.123691</td>\n      <td>1.672622</td>\n      <td>0.099149</td>\n      <td>1.397996</td>\n      <td>-0.271248</td>\n      <td>0.613204</td>\n    </tr>\n    <tr>\n      <th>F</th>\n      <td>-0.025905</td>\n      <td>0.289094</td>\n      <td>-0.539879</td>\n      <td>0.708160</td>\n      <td>0.842225</td>\n      <td>0.203581</td>\n      <td>2.394704</td>\n      <td>0.917459</td>\n      <td>-0.112272</td>\n      <td>-0.362180</td>\n    </tr>\n    <tr>\n      <th>G</th>\n      <td>-0.232182</td>\n      <td>-0.501729</td>\n      <td>1.128785</td>\n      <td>-0.697810</td>\n      <td>-0.081122</td>\n      <td>-0.529296</td>\n      <td>1.046183</td>\n      <td>-1.418556</td>\n      <td>-0.362499</td>\n      <td>-0.121906</td>\n    </tr>\n    <tr>\n      <th>H</th>\n      <td>0.319356</td>\n      <td>0.460903</td>\n      <td>-0.215790</td>\n      <td>0.989072</td>\n      <td>0.314754</td>\n      <td>2.467651</td>\n      <td>-1.508321</td>\n      <td>0.620601</td>\n      <td>-1.045133</td>\n      <td>-0.798009</td>\n    </tr>\n    <tr>\n      <th>I</th>\n      <td>1.985085</td>\n      <td>1.744814</td>\n      <td>-1.856185</td>\n      <td>-0.222774</td>\n      <td>-0.065848</td>\n      <td>-2.131712</td>\n      <td>-0.048831</td>\n      <td>0.393341</td>\n      <td>0.217265</td>\n      <td>-1.994394</td>\n    </tr>\n  </tbody>\n</table>\n</div>"
     },
     "metadata": {},
     "execution_count": 140
    }
   ],
   "source": [
    "df.drop('E',axis = 0)"
   ]
  },
  {
   "cell_type": "code",
   "execution_count": 141,
   "metadata": {},
   "outputs": [
    {
     "output_type": "execute_result",
     "data": {
      "text/plain": [
       "          K         L         M         N         O         P         Q  \\\n",
       "A  1.331587  0.715279 -1.545400 -0.008384  0.621336 -0.720086  0.265512   \n",
       "B  0.433026  1.203037 -0.965066  1.028274  0.228630  0.445138 -1.136602   \n",
       "C -1.977728 -1.743372  0.266070  2.384967  1.123691  1.672622  0.099149   \n",
       "E  0.660232 -0.350872 -0.939433 -0.489337 -0.804591 -0.212698 -0.339140   \n",
       "F -0.025905  0.289094 -0.539879  0.708160  0.842225  0.203581  2.394704   \n",
       "G -0.232182 -0.501729  1.128785 -0.697810 -0.081122 -0.529296  1.046183   \n",
       "H  0.319356  0.460903 -0.215790  0.989072  0.314754  2.467651 -1.508321   \n",
       "I  1.985085  1.744814 -1.856185 -0.222774 -0.065848 -2.131712 -0.048831   \n",
       "\n",
       "          R         S         T  \n",
       "A  0.108549  0.004291 -0.174600  \n",
       "B  0.135137  1.484537 -1.079805  \n",
       "C  1.397996 -0.271248  0.613204  \n",
       "E  0.312170  0.565153 -0.147420  \n",
       "F  0.917459 -0.112272 -0.362180  \n",
       "G -1.418556 -0.362499 -0.121906  \n",
       "H  0.620601 -1.045133 -0.798009  \n",
       "I  0.393341  0.217265 -1.994394  "
      ],
      "text/html": "<div>\n<style scoped>\n    .dataframe tbody tr th:only-of-type {\n        vertical-align: middle;\n    }\n\n    .dataframe tbody tr th {\n        vertical-align: top;\n    }\n\n    .dataframe thead th {\n        text-align: right;\n    }\n</style>\n<table border=\"1\" class=\"dataframe\">\n  <thead>\n    <tr style=\"text-align: right;\">\n      <th></th>\n      <th>K</th>\n      <th>L</th>\n      <th>M</th>\n      <th>N</th>\n      <th>O</th>\n      <th>P</th>\n      <th>Q</th>\n      <th>R</th>\n      <th>S</th>\n      <th>T</th>\n    </tr>\n  </thead>\n  <tbody>\n    <tr>\n      <th>A</th>\n      <td>1.331587</td>\n      <td>0.715279</td>\n      <td>-1.545400</td>\n      <td>-0.008384</td>\n      <td>0.621336</td>\n      <td>-0.720086</td>\n      <td>0.265512</td>\n      <td>0.108549</td>\n      <td>0.004291</td>\n      <td>-0.174600</td>\n    </tr>\n    <tr>\n      <th>B</th>\n      <td>0.433026</td>\n      <td>1.203037</td>\n      <td>-0.965066</td>\n      <td>1.028274</td>\n      <td>0.228630</td>\n      <td>0.445138</td>\n      <td>-1.136602</td>\n      <td>0.135137</td>\n      <td>1.484537</td>\n      <td>-1.079805</td>\n    </tr>\n    <tr>\n      <th>C</th>\n      <td>-1.977728</td>\n      <td>-1.743372</td>\n      <td>0.266070</td>\n      <td>2.384967</td>\n      <td>1.123691</td>\n      <td>1.672622</td>\n      <td>0.099149</td>\n      <td>1.397996</td>\n      <td>-0.271248</td>\n      <td>0.613204</td>\n    </tr>\n    <tr>\n      <th>E</th>\n      <td>0.660232</td>\n      <td>-0.350872</td>\n      <td>-0.939433</td>\n      <td>-0.489337</td>\n      <td>-0.804591</td>\n      <td>-0.212698</td>\n      <td>-0.339140</td>\n      <td>0.312170</td>\n      <td>0.565153</td>\n      <td>-0.147420</td>\n    </tr>\n    <tr>\n      <th>F</th>\n      <td>-0.025905</td>\n      <td>0.289094</td>\n      <td>-0.539879</td>\n      <td>0.708160</td>\n      <td>0.842225</td>\n      <td>0.203581</td>\n      <td>2.394704</td>\n      <td>0.917459</td>\n      <td>-0.112272</td>\n      <td>-0.362180</td>\n    </tr>\n    <tr>\n      <th>G</th>\n      <td>-0.232182</td>\n      <td>-0.501729</td>\n      <td>1.128785</td>\n      <td>-0.697810</td>\n      <td>-0.081122</td>\n      <td>-0.529296</td>\n      <td>1.046183</td>\n      <td>-1.418556</td>\n      <td>-0.362499</td>\n      <td>-0.121906</td>\n    </tr>\n    <tr>\n      <th>H</th>\n      <td>0.319356</td>\n      <td>0.460903</td>\n      <td>-0.215790</td>\n      <td>0.989072</td>\n      <td>0.314754</td>\n      <td>2.467651</td>\n      <td>-1.508321</td>\n      <td>0.620601</td>\n      <td>-1.045133</td>\n      <td>-0.798009</td>\n    </tr>\n    <tr>\n      <th>I</th>\n      <td>1.985085</td>\n      <td>1.744814</td>\n      <td>-1.856185</td>\n      <td>-0.222774</td>\n      <td>-0.065848</td>\n      <td>-2.131712</td>\n      <td>-0.048831</td>\n      <td>0.393341</td>\n      <td>0.217265</td>\n      <td>-1.994394</td>\n    </tr>\n  </tbody>\n</table>\n</div>"
     },
     "metadata": {},
     "execution_count": 141
    }
   ],
   "source": [
    "df"
   ]
  },
  {
   "cell_type": "code",
   "execution_count": 142,
   "metadata": {},
   "outputs": [],
   "source": [
    "df.drop('L',axis=1,inplace=True)"
   ]
  },
  {
   "cell_type": "code",
   "execution_count": 143,
   "metadata": {},
   "outputs": [
    {
     "output_type": "execute_result",
     "data": {
      "text/plain": [
       "          K         M         N         O         P         Q         R  \\\n",
       "A  1.331587 -1.545400 -0.008384  0.621336 -0.720086  0.265512  0.108549   \n",
       "B  0.433026 -0.965066  1.028274  0.228630  0.445138 -1.136602  0.135137   \n",
       "C -1.977728  0.266070  2.384967  1.123691  1.672622  0.099149  1.397996   \n",
       "E  0.660232 -0.939433 -0.489337 -0.804591 -0.212698 -0.339140  0.312170   \n",
       "F -0.025905 -0.539879  0.708160  0.842225  0.203581  2.394704  0.917459   \n",
       "G -0.232182  1.128785 -0.697810 -0.081122 -0.529296  1.046183 -1.418556   \n",
       "H  0.319356 -0.215790  0.989072  0.314754  2.467651 -1.508321  0.620601   \n",
       "I  1.985085 -1.856185 -0.222774 -0.065848 -2.131712 -0.048831  0.393341   \n",
       "\n",
       "          S         T  \n",
       "A  0.004291 -0.174600  \n",
       "B  1.484537 -1.079805  \n",
       "C -0.271248  0.613204  \n",
       "E  0.565153 -0.147420  \n",
       "F -0.112272 -0.362180  \n",
       "G -0.362499 -0.121906  \n",
       "H -1.045133 -0.798009  \n",
       "I  0.217265 -1.994394  "
      ],
      "text/html": "<div>\n<style scoped>\n    .dataframe tbody tr th:only-of-type {\n        vertical-align: middle;\n    }\n\n    .dataframe tbody tr th {\n        vertical-align: top;\n    }\n\n    .dataframe thead th {\n        text-align: right;\n    }\n</style>\n<table border=\"1\" class=\"dataframe\">\n  <thead>\n    <tr style=\"text-align: right;\">\n      <th></th>\n      <th>K</th>\n      <th>M</th>\n      <th>N</th>\n      <th>O</th>\n      <th>P</th>\n      <th>Q</th>\n      <th>R</th>\n      <th>S</th>\n      <th>T</th>\n    </tr>\n  </thead>\n  <tbody>\n    <tr>\n      <th>A</th>\n      <td>1.331587</td>\n      <td>-1.545400</td>\n      <td>-0.008384</td>\n      <td>0.621336</td>\n      <td>-0.720086</td>\n      <td>0.265512</td>\n      <td>0.108549</td>\n      <td>0.004291</td>\n      <td>-0.174600</td>\n    </tr>\n    <tr>\n      <th>B</th>\n      <td>0.433026</td>\n      <td>-0.965066</td>\n      <td>1.028274</td>\n      <td>0.228630</td>\n      <td>0.445138</td>\n      <td>-1.136602</td>\n      <td>0.135137</td>\n      <td>1.484537</td>\n      <td>-1.079805</td>\n    </tr>\n    <tr>\n      <th>C</th>\n      <td>-1.977728</td>\n      <td>0.266070</td>\n      <td>2.384967</td>\n      <td>1.123691</td>\n      <td>1.672622</td>\n      <td>0.099149</td>\n      <td>1.397996</td>\n      <td>-0.271248</td>\n      <td>0.613204</td>\n    </tr>\n    <tr>\n      <th>E</th>\n      <td>0.660232</td>\n      <td>-0.939433</td>\n      <td>-0.489337</td>\n      <td>-0.804591</td>\n      <td>-0.212698</td>\n      <td>-0.339140</td>\n      <td>0.312170</td>\n      <td>0.565153</td>\n      <td>-0.147420</td>\n    </tr>\n    <tr>\n      <th>F</th>\n      <td>-0.025905</td>\n      <td>-0.539879</td>\n      <td>0.708160</td>\n      <td>0.842225</td>\n      <td>0.203581</td>\n      <td>2.394704</td>\n      <td>0.917459</td>\n      <td>-0.112272</td>\n      <td>-0.362180</td>\n    </tr>\n    <tr>\n      <th>G</th>\n      <td>-0.232182</td>\n      <td>1.128785</td>\n      <td>-0.697810</td>\n      <td>-0.081122</td>\n      <td>-0.529296</td>\n      <td>1.046183</td>\n      <td>-1.418556</td>\n      <td>-0.362499</td>\n      <td>-0.121906</td>\n    </tr>\n    <tr>\n      <th>H</th>\n      <td>0.319356</td>\n      <td>-0.215790</td>\n      <td>0.989072</td>\n      <td>0.314754</td>\n      <td>2.467651</td>\n      <td>-1.508321</td>\n      <td>0.620601</td>\n      <td>-1.045133</td>\n      <td>-0.798009</td>\n    </tr>\n    <tr>\n      <th>I</th>\n      <td>1.985085</td>\n      <td>-1.856185</td>\n      <td>-0.222774</td>\n      <td>-0.065848</td>\n      <td>-2.131712</td>\n      <td>-0.048831</td>\n      <td>0.393341</td>\n      <td>0.217265</td>\n      <td>-1.994394</td>\n    </tr>\n  </tbody>\n</table>\n</div>"
     },
     "metadata": {},
     "execution_count": 143
    }
   ],
   "source": [
    "df"
   ]
  },
  {
   "cell_type": "code",
   "execution_count": 144,
   "metadata": {},
   "outputs": [
    {
     "output_type": "execute_result",
     "data": {
      "text/plain": [
       "<bound method DataFrame.reset_index of           K         M         N         O         P         Q         R  \\\n",
       "A  1.331587 -1.545400 -0.008384  0.621336 -0.720086  0.265512  0.108549   \n",
       "B  0.433026 -0.965066  1.028274  0.228630  0.445138 -1.136602  0.135137   \n",
       "C -1.977728  0.266070  2.384967  1.123691  1.672622  0.099149  1.397996   \n",
       "E  0.660232 -0.939433 -0.489337 -0.804591 -0.212698 -0.339140  0.312170   \n",
       "F -0.025905 -0.539879  0.708160  0.842225  0.203581  2.394704  0.917459   \n",
       "G -0.232182  1.128785 -0.697810 -0.081122 -0.529296  1.046183 -1.418556   \n",
       "H  0.319356 -0.215790  0.989072  0.314754  2.467651 -1.508321  0.620601   \n",
       "I  1.985085 -1.856185 -0.222774 -0.065848 -2.131712 -0.048831  0.393341   \n",
       "\n",
       "          S         T  \n",
       "A  0.004291 -0.174600  \n",
       "B  1.484537 -1.079805  \n",
       "C -0.271248  0.613204  \n",
       "E  0.565153 -0.147420  \n",
       "F -0.112272 -0.362180  \n",
       "G -0.362499 -0.121906  \n",
       "H -1.045133 -0.798009  \n",
       "I  0.217265 -1.994394  >"
      ]
     },
     "metadata": {},
     "execution_count": 144
    }
   ],
   "source": [
    "df.reset_index"
   ]
  },
  {
   "cell_type": "code",
   "execution_count": null,
   "metadata": {},
   "outputs": [],
   "source": []
  }
 ]
}